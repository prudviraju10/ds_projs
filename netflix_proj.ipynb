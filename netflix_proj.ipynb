{
 "cells": [
  {
   "cell_type": "code",
   "execution_count": 1,
   "id": "efc1ca12",
   "metadata": {},
   "outputs": [],
   "source": [
    "import pandas as pd\n",
    "import numpy as np\n",
    "import seaborn as sns\n",
    "import matplotlib.pyplot as plt"
   ]
  },
  {
   "cell_type": "code",
   "execution_count": 2,
   "id": "f8bb7089",
   "metadata": {},
   "outputs": [],
   "source": [
    "df = pd.read_csv(\"https://d2beiqkhq929f0.cloudfront.net/public_assets/assets/000/000/940/original/netflix.csv\")"
   ]
  },
  {
   "cell_type": "code",
   "execution_count": 3,
   "id": "e2106221",
   "metadata": {},
   "outputs": [
    {
     "data": {
      "text/html": [
       "<div>\n",
       "<style scoped>\n",
       "    .dataframe tbody tr th:only-of-type {\n",
       "        vertical-align: middle;\n",
       "    }\n",
       "\n",
       "    .dataframe tbody tr th {\n",
       "        vertical-align: top;\n",
       "    }\n",
       "\n",
       "    .dataframe thead th {\n",
       "        text-align: right;\n",
       "    }\n",
       "</style>\n",
       "<table border=\"1\" class=\"dataframe\">\n",
       "  <thead>\n",
       "    <tr style=\"text-align: right;\">\n",
       "      <th></th>\n",
       "      <th>show_id</th>\n",
       "      <th>type</th>\n",
       "      <th>title</th>\n",
       "      <th>director</th>\n",
       "      <th>cast</th>\n",
       "      <th>country</th>\n",
       "      <th>date_added</th>\n",
       "      <th>release_year</th>\n",
       "      <th>rating</th>\n",
       "      <th>duration</th>\n",
       "      <th>listed_in</th>\n",
       "      <th>description</th>\n",
       "    </tr>\n",
       "  </thead>\n",
       "  <tbody>\n",
       "    <tr>\n",
       "      <th>0</th>\n",
       "      <td>s1</td>\n",
       "      <td>Movie</td>\n",
       "      <td>Dick Johnson Is Dead</td>\n",
       "      <td>Kirsten Johnson</td>\n",
       "      <td>NaN</td>\n",
       "      <td>United States</td>\n",
       "      <td>September 25, 2021</td>\n",
       "      <td>2020</td>\n",
       "      <td>PG-13</td>\n",
       "      <td>90 min</td>\n",
       "      <td>Documentaries</td>\n",
       "      <td>As her father nears the end of his life, filmm...</td>\n",
       "    </tr>\n",
       "    <tr>\n",
       "      <th>1</th>\n",
       "      <td>s2</td>\n",
       "      <td>TV Show</td>\n",
       "      <td>Blood &amp; Water</td>\n",
       "      <td>NaN</td>\n",
       "      <td>Ama Qamata, Khosi Ngema, Gail Mabalane, Thaban...</td>\n",
       "      <td>South Africa</td>\n",
       "      <td>September 24, 2021</td>\n",
       "      <td>2021</td>\n",
       "      <td>TV-MA</td>\n",
       "      <td>2 Seasons</td>\n",
       "      <td>International TV Shows, TV Dramas, TV Mysteries</td>\n",
       "      <td>After crossing paths at a party, a Cape Town t...</td>\n",
       "    </tr>\n",
       "    <tr>\n",
       "      <th>2</th>\n",
       "      <td>s3</td>\n",
       "      <td>TV Show</td>\n",
       "      <td>Ganglands</td>\n",
       "      <td>Julien Leclercq</td>\n",
       "      <td>Sami Bouajila, Tracy Gotoas, Samuel Jouy, Nabi...</td>\n",
       "      <td>NaN</td>\n",
       "      <td>September 24, 2021</td>\n",
       "      <td>2021</td>\n",
       "      <td>TV-MA</td>\n",
       "      <td>1 Season</td>\n",
       "      <td>Crime TV Shows, International TV Shows, TV Act...</td>\n",
       "      <td>To protect his family from a powerful drug lor...</td>\n",
       "    </tr>\n",
       "  </tbody>\n",
       "</table>\n",
       "</div>"
      ],
      "text/plain": [
       "  show_id     type                 title         director  \\\n",
       "0      s1    Movie  Dick Johnson Is Dead  Kirsten Johnson   \n",
       "1      s2  TV Show         Blood & Water              NaN   \n",
       "2      s3  TV Show             Ganglands  Julien Leclercq   \n",
       "\n",
       "                                                cast        country  \\\n",
       "0                                                NaN  United States   \n",
       "1  Ama Qamata, Khosi Ngema, Gail Mabalane, Thaban...   South Africa   \n",
       "2  Sami Bouajila, Tracy Gotoas, Samuel Jouy, Nabi...            NaN   \n",
       "\n",
       "           date_added  release_year rating   duration  \\\n",
       "0  September 25, 2021          2020  PG-13     90 min   \n",
       "1  September 24, 2021          2021  TV-MA  2 Seasons   \n",
       "2  September 24, 2021          2021  TV-MA   1 Season   \n",
       "\n",
       "                                           listed_in  \\\n",
       "0                                      Documentaries   \n",
       "1    International TV Shows, TV Dramas, TV Mysteries   \n",
       "2  Crime TV Shows, International TV Shows, TV Act...   \n",
       "\n",
       "                                         description  \n",
       "0  As her father nears the end of his life, filmm...  \n",
       "1  After crossing paths at a party, a Cape Town t...  \n",
       "2  To protect his family from a powerful drug lor...  "
      ]
     },
     "execution_count": 3,
     "metadata": {},
     "output_type": "execute_result"
    }
   ],
   "source": [
    "df.head(3)"
   ]
  },
  {
   "cell_type": "code",
   "execution_count": 4,
   "id": "953403a3",
   "metadata": {},
   "outputs": [
    {
     "name": "stdout",
     "output_type": "stream",
     "text": [
      "<class 'pandas.core.frame.DataFrame'>\n",
      "RangeIndex: 8807 entries, 0 to 8806\n",
      "Data columns (total 12 columns):\n",
      " #   Column        Non-Null Count  Dtype \n",
      "---  ------        --------------  ----- \n",
      " 0   show_id       8807 non-null   object\n",
      " 1   type          8807 non-null   object\n",
      " 2   title         8807 non-null   object\n",
      " 3   director      6173 non-null   object\n",
      " 4   cast          7982 non-null   object\n",
      " 5   country       7976 non-null   object\n",
      " 6   date_added    8797 non-null   object\n",
      " 7   release_year  8807 non-null   int64 \n",
      " 8   rating        8803 non-null   object\n",
      " 9   duration      8804 non-null   object\n",
      " 10  listed_in     8807 non-null   object\n",
      " 11  description   8807 non-null   object\n",
      "dtypes: int64(1), object(11)\n",
      "memory usage: 825.8+ KB\n"
     ]
    }
   ],
   "source": [
    "df.info()"
   ]
  },
  {
   "cell_type": "markdown",
   "id": "2028807e",
   "metadata": {},
   "source": [
    "\n",
    "#####    Let's try to remove null values from duration column"
   ]
  },
  {
   "cell_type": "code",
   "execution_count": 5,
   "id": "7f577b0d",
   "metadata": {
    "scrolled": true
   },
   "outputs": [
    {
     "data": {
      "text/html": [
       "<div>\n",
       "<style scoped>\n",
       "    .dataframe tbody tr th:only-of-type {\n",
       "        vertical-align: middle;\n",
       "    }\n",
       "\n",
       "    .dataframe tbody tr th {\n",
       "        vertical-align: top;\n",
       "    }\n",
       "\n",
       "    .dataframe thead th {\n",
       "        text-align: right;\n",
       "    }\n",
       "</style>\n",
       "<table border=\"1\" class=\"dataframe\">\n",
       "  <thead>\n",
       "    <tr style=\"text-align: right;\">\n",
       "      <th></th>\n",
       "      <th>show_id</th>\n",
       "      <th>type</th>\n",
       "      <th>title</th>\n",
       "      <th>director</th>\n",
       "      <th>cast</th>\n",
       "      <th>country</th>\n",
       "      <th>date_added</th>\n",
       "      <th>release_year</th>\n",
       "      <th>rating</th>\n",
       "      <th>duration</th>\n",
       "      <th>listed_in</th>\n",
       "      <th>description</th>\n",
       "    </tr>\n",
       "  </thead>\n",
       "  <tbody>\n",
       "    <tr>\n",
       "      <th>5541</th>\n",
       "      <td>s5542</td>\n",
       "      <td>Movie</td>\n",
       "      <td>Louis C.K. 2017</td>\n",
       "      <td>Louis C.K.</td>\n",
       "      <td>Louis C.K.</td>\n",
       "      <td>United States</td>\n",
       "      <td>April 4, 2017</td>\n",
       "      <td>2017</td>\n",
       "      <td>74 min</td>\n",
       "      <td>NaN</td>\n",
       "      <td>Movies</td>\n",
       "      <td>Louis C.K. muses on religion, eternal love, gi...</td>\n",
       "    </tr>\n",
       "    <tr>\n",
       "      <th>5794</th>\n",
       "      <td>s5795</td>\n",
       "      <td>Movie</td>\n",
       "      <td>Louis C.K.: Hilarious</td>\n",
       "      <td>Louis C.K.</td>\n",
       "      <td>Louis C.K.</td>\n",
       "      <td>United States</td>\n",
       "      <td>September 16, 2016</td>\n",
       "      <td>2010</td>\n",
       "      <td>84 min</td>\n",
       "      <td>NaN</td>\n",
       "      <td>Movies</td>\n",
       "      <td>Emmy-winning comedy writer Louis C.K. brings h...</td>\n",
       "    </tr>\n",
       "    <tr>\n",
       "      <th>5813</th>\n",
       "      <td>s5814</td>\n",
       "      <td>Movie</td>\n",
       "      <td>Louis C.K.: Live at the Comedy Store</td>\n",
       "      <td>Louis C.K.</td>\n",
       "      <td>Louis C.K.</td>\n",
       "      <td>United States</td>\n",
       "      <td>August 15, 2016</td>\n",
       "      <td>2015</td>\n",
       "      <td>66 min</td>\n",
       "      <td>NaN</td>\n",
       "      <td>Movies</td>\n",
       "      <td>The comic puts his trademark hilarious/thought...</td>\n",
       "    </tr>\n",
       "  </tbody>\n",
       "</table>\n",
       "</div>"
      ],
      "text/plain": [
       "     show_id   type                                 title    director  \\\n",
       "5541   s5542  Movie                       Louis C.K. 2017  Louis C.K.   \n",
       "5794   s5795  Movie                 Louis C.K.: Hilarious  Louis C.K.   \n",
       "5813   s5814  Movie  Louis C.K.: Live at the Comedy Store  Louis C.K.   \n",
       "\n",
       "            cast        country          date_added  release_year  rating  \\\n",
       "5541  Louis C.K.  United States       April 4, 2017          2017  74 min   \n",
       "5794  Louis C.K.  United States  September 16, 2016          2010  84 min   \n",
       "5813  Louis C.K.  United States     August 15, 2016          2015  66 min   \n",
       "\n",
       "     duration listed_in                                        description  \n",
       "5541      NaN    Movies  Louis C.K. muses on religion, eternal love, gi...  \n",
       "5794      NaN    Movies  Emmy-winning comedy writer Louis C.K. brings h...  \n",
       "5813      NaN    Movies  The comic puts his trademark hilarious/thought...  "
      ]
     },
     "execution_count": 5,
     "metadata": {},
     "output_type": "execute_result"
    }
   ],
   "source": [
    "df[df[\"duration\"].isna()]"
   ]
  },
  {
   "cell_type": "code",
   "execution_count": 6,
   "id": "5a8bca14",
   "metadata": {},
   "outputs": [],
   "source": [
    "# the only null values have duration in their ratings so simply copy from rating and assign rating null values\n",
    "def impute_duration(x):\n",
    "    if pd.isna(x[\"duration\"]) == True:\n",
    "        x[\"duration\"] = x[\"rating\"]\n",
    "        x[\"listed_in\"] = \"Comedies\"\n",
    "        x[\"rating\"] = np.nan\n",
    "    return x\n",
    "\n",
    "df = df.apply(impute_duration,axis = 1)"
   ]
  },
  {
   "cell_type": "code",
   "execution_count": 7,
   "id": "d97a94f7",
   "metadata": {},
   "outputs": [
    {
     "data": {
      "text/plain": [
       "0"
      ]
     },
     "execution_count": 7,
     "metadata": {},
     "output_type": "execute_result"
    }
   ],
   "source": [
    "df[df[\"duration\"].isna()].shape[0]"
   ]
  },
  {
   "cell_type": "code",
   "execution_count": 8,
   "id": "facb5f60",
   "metadata": {},
   "outputs": [],
   "source": [
    "# in dutarion column the values are like int mins for movies and int seasons, so lets do split\n",
    "# which only shows run time for movies and no.of seasons for tv shows\n",
    "# hence convert to int type\n",
    "df[\"duration\"] = df[\"duration\"].apply(lambda x: str(x).split(\" \")[0])\n",
    "df[\"duration\"] = df[\"duration\"].astype(int)"
   ]
  },
  {
   "cell_type": "markdown",
   "id": "718e27a3",
   "metadata": {},
   "source": [
    "#####  lets convert data added column to a type of datetime"
   ]
  },
  {
   "cell_type": "code",
   "execution_count": 9,
   "id": "ee3a77dc",
   "metadata": {},
   "outputs": [],
   "source": [
    "df[\"date_added\"] = pd.to_datetime(df[\"date_added\"])"
   ]
  },
  {
   "cell_type": "code",
   "execution_count": 10,
   "id": "4605f75b",
   "metadata": {},
   "outputs": [
    {
     "data": {
      "text/plain": [
       "10"
      ]
     },
     "execution_count": 10,
     "metadata": {},
     "output_type": "execute_result"
    }
   ],
   "source": [
    "df[df[\"date_added\"].isna()].shape[0]\n",
    "# there are 10 null values in this colums"
   ]
  },
  {
   "cell_type": "markdown",
   "id": "e0612c7e",
   "metadata": {},
   "source": [
    "##### impute null values with the most occured date from this column"
   ]
  },
  {
   "cell_type": "code",
   "execution_count": 11,
   "id": "6d58f09f",
   "metadata": {},
   "outputs": [],
   "source": [
    "def impute_date(x):\n",
    "    if pd.isnull(x[\"date_added\"]) == True:\n",
    "        x[\"date_added\"] = df[\"date_added\"].describe().top\n",
    "    return x"
   ]
  },
  {
   "cell_type": "code",
   "execution_count": 36,
   "id": "c0bcabb5",
   "metadata": {},
   "outputs": [],
   "source": [
    "import warnings\n",
    "warnings.filterwarnings('ignore')"
   ]
  },
  {
   "cell_type": "code",
   "execution_count": 12,
   "id": "05d2495c",
   "metadata": {},
   "outputs": [
    {
     "name": "stderr",
     "output_type": "stream",
     "text": [
      "C:\\Users\\borra\\AppData\\Local\\Temp\\ipykernel_10740\\4103306053.py:3: FutureWarning: Treating datetime data as categorical rather than numeric in `.describe` is deprecated and will be removed in a future version of pandas. Specify `datetime_is_numeric=True` to silence this warning and adopt the future behavior now.\n",
      "  x[\"date_added\"] = df[\"date_added\"].describe().top\n",
      "C:\\Users\\borra\\AppData\\Local\\Temp\\ipykernel_10740\\4103306053.py:3: FutureWarning: Treating datetime data as categorical rather than numeric in `.describe` is deprecated and will be removed in a future version of pandas. Specify `datetime_is_numeric=True` to silence this warning and adopt the future behavior now.\n",
      "  x[\"date_added\"] = df[\"date_added\"].describe().top\n",
      "C:\\Users\\borra\\AppData\\Local\\Temp\\ipykernel_10740\\4103306053.py:3: FutureWarning: Treating datetime data as categorical rather than numeric in `.describe` is deprecated and will be removed in a future version of pandas. Specify `datetime_is_numeric=True` to silence this warning and adopt the future behavior now.\n",
      "  x[\"date_added\"] = df[\"date_added\"].describe().top\n",
      "C:\\Users\\borra\\AppData\\Local\\Temp\\ipykernel_10740\\4103306053.py:3: FutureWarning: Treating datetime data as categorical rather than numeric in `.describe` is deprecated and will be removed in a future version of pandas. Specify `datetime_is_numeric=True` to silence this warning and adopt the future behavior now.\n",
      "  x[\"date_added\"] = df[\"date_added\"].describe().top\n",
      "C:\\Users\\borra\\AppData\\Local\\Temp\\ipykernel_10740\\4103306053.py:3: FutureWarning: Treating datetime data as categorical rather than numeric in `.describe` is deprecated and will be removed in a future version of pandas. Specify `datetime_is_numeric=True` to silence this warning and adopt the future behavior now.\n",
      "  x[\"date_added\"] = df[\"date_added\"].describe().top\n",
      "C:\\Users\\borra\\AppData\\Local\\Temp\\ipykernel_10740\\4103306053.py:3: FutureWarning: Treating datetime data as categorical rather than numeric in `.describe` is deprecated and will be removed in a future version of pandas. Specify `datetime_is_numeric=True` to silence this warning and adopt the future behavior now.\n",
      "  x[\"date_added\"] = df[\"date_added\"].describe().top\n",
      "C:\\Users\\borra\\AppData\\Local\\Temp\\ipykernel_10740\\4103306053.py:3: FutureWarning: Treating datetime data as categorical rather than numeric in `.describe` is deprecated and will be removed in a future version of pandas. Specify `datetime_is_numeric=True` to silence this warning and adopt the future behavior now.\n",
      "  x[\"date_added\"] = df[\"date_added\"].describe().top\n",
      "C:\\Users\\borra\\AppData\\Local\\Temp\\ipykernel_10740\\4103306053.py:3: FutureWarning: Treating datetime data as categorical rather than numeric in `.describe` is deprecated and will be removed in a future version of pandas. Specify `datetime_is_numeric=True` to silence this warning and adopt the future behavior now.\n",
      "  x[\"date_added\"] = df[\"date_added\"].describe().top\n",
      "C:\\Users\\borra\\AppData\\Local\\Temp\\ipykernel_10740\\4103306053.py:3: FutureWarning: Treating datetime data as categorical rather than numeric in `.describe` is deprecated and will be removed in a future version of pandas. Specify `datetime_is_numeric=True` to silence this warning and adopt the future behavior now.\n",
      "  x[\"date_added\"] = df[\"date_added\"].describe().top\n",
      "C:\\Users\\borra\\AppData\\Local\\Temp\\ipykernel_10740\\4103306053.py:3: FutureWarning: Treating datetime data as categorical rather than numeric in `.describe` is deprecated and will be removed in a future version of pandas. Specify `datetime_is_numeric=True` to silence this warning and adopt the future behavior now.\n",
      "  x[\"date_added\"] = df[\"date_added\"].describe().top\n"
     ]
    }
   ],
   "source": [
    "df = df.apply(impute_date,axis = 1)"
   ]
  },
  {
   "cell_type": "code",
   "execution_count": 13,
   "id": "b58b8a18",
   "metadata": {},
   "outputs": [
    {
     "data": {
      "text/plain": [
       "0"
      ]
     },
     "execution_count": 13,
     "metadata": {},
     "output_type": "execute_result"
    }
   ],
   "source": [
    "df[df[\"date_added\"].isna()].shape[0]\n",
    "#all null values removed from this column"
   ]
  },
  {
   "cell_type": "markdown",
   "id": "fbfef431",
   "metadata": {},
   "source": [
    "##### lets convert country, cast, director and listed_in columns to str type"
   ]
  },
  {
   "cell_type": "code",
   "execution_count": 14,
   "id": "7d01cb95",
   "metadata": {},
   "outputs": [],
   "source": [
    "df[\"country\"] = df[\"country\"].astype(str)\n",
    "df[\"cast\"] = df[\"cast\"].astype(str)\n",
    "df[\"director\"] = df[\"director\"].astype(str)\n",
    "df[\"listed_in\"] = df[\"listed_in\"].astype(str)"
   ]
  },
  {
   "cell_type": "code",
   "execution_count": 15,
   "id": "eba7ec4c",
   "metadata": {},
   "outputs": [
    {
     "data": {
      "text/plain": [
       "7"
      ]
     },
     "execution_count": 15,
     "metadata": {},
     "output_type": "execute_result"
    }
   ],
   "source": [
    "df[df[\"rating\"].isna()].shape[0]"
   ]
  },
  {
   "cell_type": "markdown",
   "id": "eace2339",
   "metadata": {},
   "source": [
    "##### only 7 rows have rating null so impute with most occured rating from this column"
   ]
  },
  {
   "cell_type": "code",
   "execution_count": 16,
   "id": "5908c0a4",
   "metadata": {},
   "outputs": [],
   "source": [
    "def impute_rating(x):\n",
    "    if pd.isna(x[\"rating\"]) == True:\n",
    "        x[\"rating\"] = df[\"rating\"].describe().top\n",
    "    return x\n",
    "\n",
    "df = df.apply(impute_rating,axis = 1)"
   ]
  },
  {
   "cell_type": "code",
   "execution_count": 17,
   "id": "9a2db360",
   "metadata": {},
   "outputs": [
    {
     "data": {
      "text/plain": [
       "0"
      ]
     },
     "execution_count": 17,
     "metadata": {},
     "output_type": "execute_result"
    }
   ],
   "source": [
    "df[df[\"rating\"].isna()].shape[0]"
   ]
  },
  {
   "cell_type": "code",
   "execution_count": 18,
   "id": "2a31d6c8",
   "metadata": {},
   "outputs": [],
   "source": [
    "# df[\"type\"].value_counts()"
   ]
  },
  {
   "cell_type": "markdown",
   "id": "b8d06e71",
   "metadata": {},
   "source": [
    "##### Take movies into a seperate df_movies dataframe and tv shows into df_series dataframe"
   ]
  },
  {
   "cell_type": "code",
   "execution_count": 19,
   "id": "d67118fc",
   "metadata": {},
   "outputs": [
    {
     "data": {
      "text/plain": [
       "(6131, 12)"
      ]
     },
     "execution_count": 19,
     "metadata": {},
     "output_type": "execute_result"
    }
   ],
   "source": [
    "df_movies = df[df[\"type\"] == \"Movie\"]\n",
    "df_movies.shape"
   ]
  },
  {
   "cell_type": "code",
   "execution_count": 20,
   "id": "3879e417",
   "metadata": {},
   "outputs": [
    {
     "data": {
      "text/plain": [
       "(2676, 12)"
      ]
     },
     "execution_count": 20,
     "metadata": {},
     "output_type": "execute_result"
    }
   ],
   "source": [
    "df_series = df[df[\"type\"] != \"Movie\"]\n",
    "df_series.shape"
   ]
  },
  {
   "cell_type": "code",
   "execution_count": 21,
   "id": "fd0364bd",
   "metadata": {},
   "outputs": [
    {
     "name": "stdout",
     "output_type": "stream",
     "text": [
      "188 59 17 0\n"
     ]
    }
   ],
   "source": [
    "# df_movies.info()\n",
    "director_missing = df_movies[df_movies[\"director\"] == \"nan\"].shape[0]\n",
    "director_missing_country = df_movies[(df_movies[\"director\"] == \"nan\") & (df_movies[\"country\"] == \"nan\")].shape[0]\n",
    "director_missing_country_cast = df_movies[(df_movies[\"director\"] == \"nan\") & (df_movies[\"country\"] == \"nan\") & (df_movies[\"cast\"] == \"nan\")].shape[0]\n",
    "director_missing_country_cast_listed_in = df_movies[(df_movies[\"director\"] == \"nan\") & (df_movies[\"country\"] == \"nan\") & (df_movies[\"cast\"] == \"nan\") & (df_movies[\"listed_in\"] == \"nan\")].shape[0]\n",
    "print(director_missing, director_missing_country,director_missing_country_cast,director_missing_country_cast_listed_in)"
   ]
  },
  {
   "cell_type": "markdown",
   "id": "f9551f3d",
   "metadata": {},
   "source": [
    "##### above output shows\n",
    "    188 rows director missing\n",
    "    59 rows have both director and country missing\n",
    "    17 rows have director and country and cast missing\n",
    "    0 rows have director and country and cast missing and genre missing"
   ]
  },
  {
   "cell_type": "code",
   "execution_count": 22,
   "id": "4936b4d6",
   "metadata": {},
   "outputs": [
    {
     "name": "stdout",
     "output_type": "stream",
     "text": [
      "2446\n"
     ]
    }
   ],
   "source": [
    "director_missing1 = df_series[df_series[\"director\"] == \"nan\"].shape[0]\n",
    "# director_missing_country1 = df_series[(df_series[\"director\"] == \"nan\") & (df_series[\"country\"] == \"nan\")].shape[0]\n",
    "print(director_missing1)"
   ]
  },
  {
   "cell_type": "markdown",
   "id": "3101ffc0",
   "metadata": {},
   "source": [
    "##### above output shows\n",
    "    2446 rows director missing out of 2676 ,,  so in tv shows data more than 90% of director data missing\n",
    "    hence we can drop/neglect the directors data for tv series\n",
    "  "
   ]
  },
  {
   "cell_type": "code",
   "execution_count": 23,
   "id": "a050f59e",
   "metadata": {},
   "outputs": [
    {
     "name": "stdout",
     "output_type": "stream",
     "text": [
      "440 391 475 350 0 0\n"
     ]
    }
   ],
   "source": [
    "movie_country_na = df_movies[df_movies[\"country\"] == \"nan\"].shape[0]\n",
    "tvshow_country_na = df_series[df_series[\"country\"] == \"nan\"].shape[0]\n",
    "movie_cast_na = df_movies[df_movies[\"cast\"] == \"nan\"].shape[0]\n",
    "tvshow_cast_na = df_series[df_series[\"cast\"] == \"nan\"].shape[0]\n",
    "movie_genre_na = df_movies[df_movies[\"listed_in\"] == \"nan\"].shape[0]\n",
    "tvshow_genre_na = df_series[df_series[\"listed_in\"] == \"nan\"].shape[0]\n",
    "print(movie_country_na,tvshow_country_na,movie_cast_na, tvshow_cast_na, movie_genre_na, tvshow_genre_na )"
   ]
  },
  {
   "cell_type": "markdown",
   "id": "5cfa278a",
   "metadata": {},
   "source": [
    "##### above output shows\n",
    "    no missing vales in genre"
   ]
  },
  {
   "cell_type": "markdown",
   "id": "5d7d4125",
   "metadata": {},
   "source": [
    "### Work on Movies data(df_movies)"
   ]
  },
  {
   "cell_type": "markdown",
   "id": "9b715878",
   "metadata": {},
   "source": [
    "##### As observed from data director, cast, country and listed_in contains multiple values seperated by columns\n",
    "    hence split these columns and use explode to make single value column"
   ]
  },
  {
   "cell_type": "code",
   "execution_count": 24,
   "id": "e95f39b1",
   "metadata": {},
   "outputs": [
    {
     "name": "stderr",
     "output_type": "stream",
     "text": [
      "C:\\Users\\borra\\AppData\\Local\\Temp\\ipykernel_10740\\1637029210.py:1: SettingWithCopyWarning: \n",
      "A value is trying to be set on a copy of a slice from a DataFrame.\n",
      "Try using .loc[row_indexer,col_indexer] = value instead\n",
      "\n",
      "See the caveats in the documentation: https://pandas.pydata.org/pandas-docs/stable/user_guide/indexing.html#returning-a-view-versus-a-copy\n",
      "  df_movies.loc[:,\"cast\"] = df_movies.loc[:,\"cast\"].str.split(\",\")\n",
      "C:\\Users\\borra\\AppData\\Local\\Temp\\ipykernel_10740\\1637029210.py:2: SettingWithCopyWarning: \n",
      "A value is trying to be set on a copy of a slice from a DataFrame.\n",
      "Try using .loc[row_indexer,col_indexer] = value instead\n",
      "\n",
      "See the caveats in the documentation: https://pandas.pydata.org/pandas-docs/stable/user_guide/indexing.html#returning-a-view-versus-a-copy\n",
      "  df_movies.loc[:,\"country\"] = df_movies[\"country\"].str.split(\",\")\n",
      "C:\\Users\\borra\\AppData\\Local\\Temp\\ipykernel_10740\\1637029210.py:3: SettingWithCopyWarning: \n",
      "A value is trying to be set on a copy of a slice from a DataFrame.\n",
      "Try using .loc[row_indexer,col_indexer] = value instead\n",
      "\n",
      "See the caveats in the documentation: https://pandas.pydata.org/pandas-docs/stable/user_guide/indexing.html#returning-a-view-versus-a-copy\n",
      "  df_movies.loc[:,\"director\"] = df_movies[\"director\"].str.split(\",\")\n",
      "C:\\Users\\borra\\AppData\\Local\\Temp\\ipykernel_10740\\1637029210.py:4: SettingWithCopyWarning: \n",
      "A value is trying to be set on a copy of a slice from a DataFrame.\n",
      "Try using .loc[row_indexer,col_indexer] = value instead\n",
      "\n",
      "See the caveats in the documentation: https://pandas.pydata.org/pandas-docs/stable/user_guide/indexing.html#returning-a-view-versus-a-copy\n",
      "  df_movies[\"listed_in\"] = df_movies[\"listed_in\"].str.split(\",\")\n"
     ]
    }
   ],
   "source": [
    "df_movies.loc[:,\"cast\"] = df_movies.loc[:,\"cast\"].str.split(\",\")\n",
    "df_movies.loc[:,\"country\"] = df_movies[\"country\"].str.split(\",\")\n",
    "df_movies.loc[:,\"director\"] = df_movies[\"director\"].str.split(\",\")\n",
    "df_movies[\"listed_in\"] = df_movies[\"listed_in\"].str.split(\",\")"
   ]
  },
  {
   "cell_type": "code",
   "execution_count": 50,
   "id": "850a690d",
   "metadata": {},
   "outputs": [
    {
     "data": {
      "text/html": [
       "<div>\n",
       "<style scoped>\n",
       "    .dataframe tbody tr th:only-of-type {\n",
       "        vertical-align: middle;\n",
       "    }\n",
       "\n",
       "    .dataframe tbody tr th {\n",
       "        vertical-align: top;\n",
       "    }\n",
       "\n",
       "    .dataframe thead th {\n",
       "        text-align: right;\n",
       "    }\n",
       "</style>\n",
       "<table border=\"1\" class=\"dataframe\">\n",
       "  <thead>\n",
       "    <tr style=\"text-align: right;\">\n",
       "      <th></th>\n",
       "      <th>show_id</th>\n",
       "      <th>type</th>\n",
       "      <th>title</th>\n",
       "      <th>director</th>\n",
       "      <th>cast</th>\n",
       "      <th>country</th>\n",
       "      <th>date_added</th>\n",
       "      <th>release_year</th>\n",
       "      <th>rating</th>\n",
       "      <th>duration</th>\n",
       "      <th>listed_in</th>\n",
       "      <th>description</th>\n",
       "    </tr>\n",
       "  </thead>\n",
       "  <tbody>\n",
       "    <tr>\n",
       "      <th>0</th>\n",
       "      <td>s1</td>\n",
       "      <td>Movie</td>\n",
       "      <td>Dick Johnson Is Dead</td>\n",
       "      <td>[Kirsten Johnson]</td>\n",
       "      <td>[nan]</td>\n",
       "      <td>[United States]</td>\n",
       "      <td>2021-09-25</td>\n",
       "      <td>2020</td>\n",
       "      <td>PG-13</td>\n",
       "      <td>90</td>\n",
       "      <td>[Documentaries]</td>\n",
       "      <td>As her father nears the end of his life, filmm...</td>\n",
       "    </tr>\n",
       "    <tr>\n",
       "      <th>6</th>\n",
       "      <td>s7</td>\n",
       "      <td>Movie</td>\n",
       "      <td>My Little Pony: A New Generation</td>\n",
       "      <td>[Robert Cullen,  José Luis Ucha]</td>\n",
       "      <td>[Vanessa Hudgens,  Kimiko Glenn,  James Marsde...</td>\n",
       "      <td>[nan]</td>\n",
       "      <td>2021-09-24</td>\n",
       "      <td>2021</td>\n",
       "      <td>PG</td>\n",
       "      <td>91</td>\n",
       "      <td>[Children &amp; Family Movies]</td>\n",
       "      <td>Equestria's divided. But a bright-eyed hero be...</td>\n",
       "    </tr>\n",
       "    <tr>\n",
       "      <th>7</th>\n",
       "      <td>s8</td>\n",
       "      <td>Movie</td>\n",
       "      <td>Sankofa</td>\n",
       "      <td>[Haile Gerima]</td>\n",
       "      <td>[Kofi Ghanaba,  Oyafunmike Ogunlano,  Alexandr...</td>\n",
       "      <td>[United States,  Ghana,  Burkina Faso,  United...</td>\n",
       "      <td>2021-09-24</td>\n",
       "      <td>1993</td>\n",
       "      <td>TV-MA</td>\n",
       "      <td>125</td>\n",
       "      <td>[Dramas,  Independent Movies,  International M...</td>\n",
       "      <td>On a photo shoot in Ghana, an American model s...</td>\n",
       "    </tr>\n",
       "    <tr>\n",
       "      <th>9</th>\n",
       "      <td>s10</td>\n",
       "      <td>Movie</td>\n",
       "      <td>The Starling</td>\n",
       "      <td>[Theodore Melfi]</td>\n",
       "      <td>[Melissa McCarthy,  Chris O'Dowd,  Kevin Kline...</td>\n",
       "      <td>[United States]</td>\n",
       "      <td>2021-09-24</td>\n",
       "      <td>2021</td>\n",
       "      <td>PG-13</td>\n",
       "      <td>104</td>\n",
       "      <td>[Comedies,  Dramas]</td>\n",
       "      <td>A woman adjusting to life after a loss contend...</td>\n",
       "    </tr>\n",
       "    <tr>\n",
       "      <th>12</th>\n",
       "      <td>s13</td>\n",
       "      <td>Movie</td>\n",
       "      <td>Je Suis Karl</td>\n",
       "      <td>[Christian Schwochow]</td>\n",
       "      <td>[Luna Wedler,  Jannis Niewöhner,  Milan Pesche...</td>\n",
       "      <td>[Germany,  Czech Republic]</td>\n",
       "      <td>2021-09-23</td>\n",
       "      <td>2021</td>\n",
       "      <td>TV-MA</td>\n",
       "      <td>127</td>\n",
       "      <td>[Dramas,  International Movies]</td>\n",
       "      <td>After most of her family is murdered in a terr...</td>\n",
       "    </tr>\n",
       "  </tbody>\n",
       "</table>\n",
       "</div>"
      ],
      "text/plain": [
       "   show_id   type                             title  \\\n",
       "0       s1  Movie              Dick Johnson Is Dead   \n",
       "6       s7  Movie  My Little Pony: A New Generation   \n",
       "7       s8  Movie                           Sankofa   \n",
       "9      s10  Movie                      The Starling   \n",
       "12     s13  Movie                      Je Suis Karl   \n",
       "\n",
       "                            director  \\\n",
       "0                  [Kirsten Johnson]   \n",
       "6   [Robert Cullen,  José Luis Ucha]   \n",
       "7                     [Haile Gerima]   \n",
       "9                   [Theodore Melfi]   \n",
       "12             [Christian Schwochow]   \n",
       "\n",
       "                                                 cast  \\\n",
       "0                                               [nan]   \n",
       "6   [Vanessa Hudgens,  Kimiko Glenn,  James Marsde...   \n",
       "7   [Kofi Ghanaba,  Oyafunmike Ogunlano,  Alexandr...   \n",
       "9   [Melissa McCarthy,  Chris O'Dowd,  Kevin Kline...   \n",
       "12  [Luna Wedler,  Jannis Niewöhner,  Milan Pesche...   \n",
       "\n",
       "                                              country date_added  \\\n",
       "0                                     [United States] 2021-09-25   \n",
       "6                                               [nan] 2021-09-24   \n",
       "7   [United States,  Ghana,  Burkina Faso,  United... 2021-09-24   \n",
       "9                                     [United States] 2021-09-24   \n",
       "12                         [Germany,  Czech Republic] 2021-09-23   \n",
       "\n",
       "    release_year rating  duration  \\\n",
       "0           2020  PG-13        90   \n",
       "6           2021     PG        91   \n",
       "7           1993  TV-MA       125   \n",
       "9           2021  PG-13       104   \n",
       "12          2021  TV-MA       127   \n",
       "\n",
       "                                            listed_in  \\\n",
       "0                                     [Documentaries]   \n",
       "6                          [Children & Family Movies]   \n",
       "7   [Dramas,  Independent Movies,  International M...   \n",
       "9                                 [Comedies,  Dramas]   \n",
       "12                    [Dramas,  International Movies]   \n",
       "\n",
       "                                          description  \n",
       "0   As her father nears the end of his life, filmm...  \n",
       "6   Equestria's divided. But a bright-eyed hero be...  \n",
       "7   On a photo shoot in Ghana, an American model s...  \n",
       "9   A woman adjusting to life after a loss contend...  \n",
       "12  After most of her family is murdered in a terr...  "
      ]
     },
     "execution_count": 50,
     "metadata": {},
     "output_type": "execute_result"
    }
   ],
   "source": [
    "df_movies.head()"
   ]
  },
  {
   "cell_type": "markdown",
   "id": "61e2becc",
   "metadata": {},
   "source": [
    "##### thorugh observation found that these values even contain empty spaces hence remove the spaces before using explode from pandas"
   ]
  },
  {
   "cell_type": "code",
   "execution_count": 27,
   "id": "7f17dfc6",
   "metadata": {},
   "outputs": [],
   "source": [
    "def remove_spaces(x):\n",
    "    ans = []\n",
    "    for i in x:\n",
    "        if i != '':\n",
    "            ans.append(i.strip())\n",
    "    return ans\n",
    "\n",
    "df_movies[\"country\"] = df_movies[\"country\"].apply(remove_spaces)\n",
    "df_movies[\"cast\"] = df_movies[\"cast\"].apply(remove_spaces)\n",
    "df_movies[\"director\"]= df_movies[\"director\"].apply(remove_spaces)\n",
    "df_movies[\"listed_in\"] = df_movies[\"listed_in\"].apply(remove_spaces)"
   ]
  },
  {
   "cell_type": "code",
   "execution_count": 28,
   "id": "52a16097",
   "metadata": {},
   "outputs": [],
   "source": [
    "df_movies = df_movies.explode(\"cast\")\n",
    "df_movies = df_movies.explode(\"country\")\n",
    "df_movies = df_movies.explode(\"director\")\n",
    "df_movies = df_movies.explode(\"listed_in\")"
   ]
  },
  {
   "cell_type": "code",
   "execution_count": 29,
   "id": "25b282d6",
   "metadata": {},
   "outputs": [
    {
     "data": {
      "text/plain": [
       "145819"
      ]
     },
     "execution_count": 29,
     "metadata": {},
     "output_type": "execute_result"
    }
   ],
   "source": [
    "df_movies.shape[0]"
   ]
  },
  {
   "cell_type": "code",
   "execution_count": 30,
   "id": "c038c3a9",
   "metadata": {},
   "outputs": [
    {
     "data": {
      "text/html": [
       "<div>\n",
       "<style scoped>\n",
       "    .dataframe tbody tr th:only-of-type {\n",
       "        vertical-align: middle;\n",
       "    }\n",
       "\n",
       "    .dataframe tbody tr th {\n",
       "        vertical-align: top;\n",
       "    }\n",
       "\n",
       "    .dataframe thead th {\n",
       "        text-align: right;\n",
       "    }\n",
       "</style>\n",
       "<table border=\"1\" class=\"dataframe\">\n",
       "  <thead>\n",
       "    <tr style=\"text-align: right;\">\n",
       "      <th></th>\n",
       "      <th>show_id</th>\n",
       "      <th>type</th>\n",
       "      <th>title</th>\n",
       "      <th>director</th>\n",
       "      <th>cast</th>\n",
       "      <th>country</th>\n",
       "      <th>date_added</th>\n",
       "      <th>release_year</th>\n",
       "      <th>rating</th>\n",
       "      <th>duration</th>\n",
       "      <th>listed_in</th>\n",
       "      <th>description</th>\n",
       "    </tr>\n",
       "  </thead>\n",
       "  <tbody>\n",
       "    <tr>\n",
       "      <th>0</th>\n",
       "      <td>s1</td>\n",
       "      <td>Movie</td>\n",
       "      <td>Dick Johnson Is Dead</td>\n",
       "      <td>Kirsten Johnson</td>\n",
       "      <td>nan</td>\n",
       "      <td>United States</td>\n",
       "      <td>2021-09-25</td>\n",
       "      <td>2020</td>\n",
       "      <td>PG-13</td>\n",
       "      <td>90</td>\n",
       "      <td>Documentaries</td>\n",
       "      <td>As her father nears the end of his life, filmm...</td>\n",
       "    </tr>\n",
       "    <tr>\n",
       "      <th>6</th>\n",
       "      <td>s7</td>\n",
       "      <td>Movie</td>\n",
       "      <td>My Little Pony: A New Generation</td>\n",
       "      <td>Robert Cullen</td>\n",
       "      <td>Vanessa Hudgens</td>\n",
       "      <td>nan</td>\n",
       "      <td>2021-09-24</td>\n",
       "      <td>2021</td>\n",
       "      <td>PG</td>\n",
       "      <td>91</td>\n",
       "      <td>Children &amp; Family Movies</td>\n",
       "      <td>Equestria's divided. But a bright-eyed hero be...</td>\n",
       "    </tr>\n",
       "    <tr>\n",
       "      <th>6</th>\n",
       "      <td>s7</td>\n",
       "      <td>Movie</td>\n",
       "      <td>My Little Pony: A New Generation</td>\n",
       "      <td>José Luis Ucha</td>\n",
       "      <td>Vanessa Hudgens</td>\n",
       "      <td>nan</td>\n",
       "      <td>2021-09-24</td>\n",
       "      <td>2021</td>\n",
       "      <td>PG</td>\n",
       "      <td>91</td>\n",
       "      <td>Children &amp; Family Movies</td>\n",
       "      <td>Equestria's divided. But a bright-eyed hero be...</td>\n",
       "    </tr>\n",
       "  </tbody>\n",
       "</table>\n",
       "</div>"
      ],
      "text/plain": [
       "  show_id   type                             title         director  \\\n",
       "0      s1  Movie              Dick Johnson Is Dead  Kirsten Johnson   \n",
       "6      s7  Movie  My Little Pony: A New Generation    Robert Cullen   \n",
       "6      s7  Movie  My Little Pony: A New Generation   José Luis Ucha   \n",
       "\n",
       "              cast        country date_added  release_year rating  duration  \\\n",
       "0              nan  United States 2021-09-25          2020  PG-13        90   \n",
       "6  Vanessa Hudgens            nan 2021-09-24          2021     PG        91   \n",
       "6  Vanessa Hudgens            nan 2021-09-24          2021     PG        91   \n",
       "\n",
       "                  listed_in                                        description  \n",
       "0             Documentaries  As her father nears the end of his life, filmm...  \n",
       "6  Children & Family Movies  Equestria's divided. But a bright-eyed hero be...  \n",
       "6  Children & Family Movies  Equestria's divided. But a bright-eyed hero be...  "
      ]
     },
     "execution_count": 30,
     "metadata": {},
     "output_type": "execute_result"
    }
   ],
   "source": [
    "df_movies.head(3)"
   ]
  },
  {
   "cell_type": "code",
   "execution_count": 31,
   "id": "68b86c56",
   "metadata": {},
   "outputs": [
    {
     "data": {
      "text/plain": [
       "6131"
      ]
     },
     "execution_count": 31,
     "metadata": {},
     "output_type": "execute_result"
    }
   ],
   "source": [
    "df_movies.groupby(\"title\").ngroups"
   ]
  },
  {
   "cell_type": "markdown",
   "id": "4c398366",
   "metadata": {},
   "source": [
    "##### Filling missing values in director column of movies data(df_movies)"
   ]
  },
  {
   "cell_type": "code",
   "execution_count": 32,
   "id": "c57ec1c1",
   "metadata": {},
   "outputs": [],
   "source": [
    "# this function is to split the list data and remove if any spaces\n",
    "def func5(x1):\n",
    "    vals = x1.split(\",\")\n",
    "    ans = []\n",
    "    for i in vals:\n",
    "        if i != '':\n",
    "            ans.append(i.strip())\n",
    "    return ans\n",
    "\n",
    "# this function get (2) multi index ex((a,b),(c,d),..) => a is country, b is director and return b if b is not nan\n",
    "def func6(x2):\n",
    "    l = len(x2)\n",
    "    for i in range(l):\n",
    "        if x2[i][1] != \"nan\":\n",
    "            return x2[i][1]\n",
    "    return \"nan\"\n",
    "\n",
    "# this function get index (d)director and return d if d is not nan\n",
    "def func6_u(nam):\n",
    "    l = len(nam)\n",
    "    for i in range(l):\n",
    "        if nam[i] != \"nan\":\n",
    "            return nam[i]\n",
    "    return \"nan\"\n",
    "\n"
   ]
  },
  {
   "cell_type": "code",
   "execution_count": 33,
   "id": "fd377955",
   "metadata": {},
   "outputs": [],
   "source": [
    "# 1) try to impute if country is not nan => filling with that country's top director but if no director exists then step 2\n",
    "# 2) try to impute if cast is not nan => filling with that cast's country's top director but if no director exists then step 3\n",
    "# 3) try to impute with genre, as no null in genre\n",
    "\n",
    "def dir_impute(x):\n",
    "    if x[\"director\"] == \"nan\":\n",
    "        if x[\"country\"] != \"nan\":\n",
    "            c = func5(x[\"country\"])\n",
    "            output_d = df_movies.groupby(\"country\")[\"director\"].value_counts().loc[c].sort_values(ascending = False).index\n",
    "            name_d = func6(output_d)\n",
    "            if name_d != \"nan\":\n",
    "                x[\"director\"] = name_d\n",
    "                return x\n",
    "        if x[\"cast\"] != \"nan\":\n",
    "            c = func5(x[\"cast\"])\n",
    "            output_d = df_movies.groupby(\"cast\")[\"country\"].value_counts().loc[c].sort_values(ascending = False).index\n",
    "            name_d = func6(output_d)\n",
    "            if name_d != \"nan\":\n",
    "                output_d1 = df_movies.groupby(\"country\")[\"director\"].value_counts().loc[name_d].sort_values(ascending = False).index\n",
    "                name_d1 = func6_u(output_d1)\n",
    "                if name_d1 != \"nan\":\n",
    "                    x[\"director\"] = name_d1\n",
    "                    return x\n",
    "        if x[\"listed_in\"] != \"nan\":\n",
    "            c = func5(x[\"listed_in\"])\n",
    "            output_d = df_movies.groupby(\"listed_in\")[\"director\"].value_counts().loc[c].sort_values(ascending = False).index\n",
    "            name_d = func6(output_d)\n",
    "            x[\"director\"] = name_d\n",
    "            return x\n",
    "    return x\n",
    "            "
   ]
  },
  {
   "cell_type": "markdown",
   "id": "2ea8eed3",
   "metadata": {},
   "source": [
    "##### Take temporary movies data to impute director"
   ]
  },
  {
   "cell_type": "code",
   "execution_count": 34,
   "id": "ec9db68a",
   "metadata": {
    "scrolled": true
   },
   "outputs": [
    {
     "data": {
      "text/plain": [
       "6131"
      ]
     },
     "execution_count": 34,
     "metadata": {},
     "output_type": "execute_result"
    }
   ],
   "source": [
    "df_movies_original = df[df[\"type\"] == \"Movie\"]\n",
    "df_movies_original.shape[0]"
   ]
  },
  {
   "cell_type": "markdown",
   "id": "1cf7655b",
   "metadata": {},
   "source": [
    "##### apply dir_impute"
   ]
  },
  {
   "cell_type": "code",
   "execution_count": 35,
   "id": "6711d201",
   "metadata": {},
   "outputs": [],
   "source": [
    "df_movies_original = df_movies_original.apply(dir_impute,axis = 1)"
   ]
  },
  {
   "cell_type": "code",
   "execution_count": 36,
   "id": "411db341",
   "metadata": {},
   "outputs": [
    {
     "data": {
      "text/plain": [
       "0"
      ]
     },
     "execution_count": 36,
     "metadata": {},
     "output_type": "execute_result"
    }
   ],
   "source": [
    "# oh.head()\n",
    "df_movies_original[df_movies_original[\"director\"] == \"nan\"].shape[0]\n",
    "# we can now so no null values"
   ]
  },
  {
   "cell_type": "markdown",
   "id": "8b8c7c3f",
   "metadata": {},
   "source": [
    "##### merge df_movies_original(temp data ) with df_movies"
   ]
  },
  {
   "cell_type": "code",
   "execution_count": 37,
   "id": "7d8d9b73",
   "metadata": {},
   "outputs": [],
   "source": [
    "df_temp = df_movies_original[[\"title\", \"director\"]]\n",
    "df_movies = df_movies.merge(df_temp, on = \"title\")"
   ]
  },
  {
   "cell_type": "code",
   "execution_count": 38,
   "id": "1e5812aa",
   "metadata": {},
   "outputs": [
    {
     "data": {
      "text/plain": [
       "Index(['show_id', 'type', 'title', 'director_x', 'cast', 'country',\n",
       "       'date_added', 'release_year', 'rating', 'duration', 'listed_in',\n",
       "       'description', 'director_y'],\n",
       "      dtype='object')"
      ]
     },
     "execution_count": 38,
     "metadata": {},
     "output_type": "execute_result"
    }
   ],
   "source": [
    "# director_x is df_movies director colums so check to see if any nan values \n",
    "df_movies.columns"
   ]
  },
  {
   "cell_type": "code",
   "execution_count": 39,
   "id": "fbf552fb",
   "metadata": {},
   "outputs": [],
   "source": [
    "# fill df_movies nan values with df_movies_original data(i.e directors imputed data)\n",
    "def fill_d(x):\n",
    "    if x[\"director_x\"] == \"nan\":\n",
    "        x[\"director_x\"] = x[\"director_y\"]\n",
    "    return x \n",
    "df_movies = df_movies.apply(fill_d,axis = 1)"
   ]
  },
  {
   "cell_type": "code",
   "execution_count": 40,
   "id": "790972c1",
   "metadata": {},
   "outputs": [],
   "source": [
    "df_movies.drop(columns=\"director_y\",inplace=True)\n",
    "df_movies.rename(columns = {'director_x':'director'}, inplace = True)"
   ]
  },
  {
   "cell_type": "code",
   "execution_count": 41,
   "id": "6745e73b",
   "metadata": {},
   "outputs": [
    {
     "data": {
      "text/plain": [
       "145819"
      ]
     },
     "execution_count": 41,
     "metadata": {},
     "output_type": "execute_result"
    }
   ],
   "source": [
    "df_movies.shape[0]"
   ]
  },
  {
   "cell_type": "code",
   "execution_count": null,
   "id": "db507623",
   "metadata": {},
   "outputs": [],
   "source": []
  },
  {
   "cell_type": "code",
   "execution_count": 42,
   "id": "aa6e545b",
   "metadata": {},
   "outputs": [
    {
     "data": {
      "text/plain": [
       "Index(['show_id', 'type', 'title', 'director', 'cast', 'country', 'date_added',\n",
       "       'release_year', 'rating', 'duration', 'listed_in', 'description'],\n",
       "      dtype='object')"
      ]
     },
     "execution_count": 42,
     "metadata": {},
     "output_type": "execute_result"
    }
   ],
   "source": [
    "df_movies.columns"
   ]
  },
  {
   "cell_type": "code",
   "execution_count": 43,
   "id": "9b7dca90",
   "metadata": {},
   "outputs": [
    {
     "data": {
      "text/html": [
       "<div>\n",
       "<style scoped>\n",
       "    .dataframe tbody tr th:only-of-type {\n",
       "        vertical-align: middle;\n",
       "    }\n",
       "\n",
       "    .dataframe tbody tr th {\n",
       "        vertical-align: top;\n",
       "    }\n",
       "\n",
       "    .dataframe thead th {\n",
       "        text-align: right;\n",
       "    }\n",
       "</style>\n",
       "<table border=\"1\" class=\"dataframe\">\n",
       "  <thead>\n",
       "    <tr style=\"text-align: right;\">\n",
       "      <th></th>\n",
       "      <th>show_id</th>\n",
       "      <th>type</th>\n",
       "      <th>title</th>\n",
       "      <th>director</th>\n",
       "      <th>cast</th>\n",
       "      <th>country</th>\n",
       "      <th>date_added</th>\n",
       "      <th>release_year</th>\n",
       "      <th>rating</th>\n",
       "      <th>duration</th>\n",
       "      <th>listed_in</th>\n",
       "      <th>description</th>\n",
       "    </tr>\n",
       "  </thead>\n",
       "  <tbody>\n",
       "    <tr>\n",
       "      <th>0</th>\n",
       "      <td>s1</td>\n",
       "      <td>Movie</td>\n",
       "      <td>Dick Johnson Is Dead</td>\n",
       "      <td>Kirsten Johnson</td>\n",
       "      <td>nan</td>\n",
       "      <td>United States</td>\n",
       "      <td>2021-09-25</td>\n",
       "      <td>2020</td>\n",
       "      <td>PG-13</td>\n",
       "      <td>90</td>\n",
       "      <td>Documentaries</td>\n",
       "      <td>As her father nears the end of his life, filmm...</td>\n",
       "    </tr>\n",
       "    <tr>\n",
       "      <th>1</th>\n",
       "      <td>s7</td>\n",
       "      <td>Movie</td>\n",
       "      <td>My Little Pony: A New Generation</td>\n",
       "      <td>Robert Cullen</td>\n",
       "      <td>Vanessa Hudgens</td>\n",
       "      <td>nan</td>\n",
       "      <td>2021-09-24</td>\n",
       "      <td>2021</td>\n",
       "      <td>PG</td>\n",
       "      <td>91</td>\n",
       "      <td>Children &amp; Family Movies</td>\n",
       "      <td>Equestria's divided. But a bright-eyed hero be...</td>\n",
       "    </tr>\n",
       "    <tr>\n",
       "      <th>2</th>\n",
       "      <td>s7</td>\n",
       "      <td>Movie</td>\n",
       "      <td>My Little Pony: A New Generation</td>\n",
       "      <td>José Luis Ucha</td>\n",
       "      <td>Vanessa Hudgens</td>\n",
       "      <td>nan</td>\n",
       "      <td>2021-09-24</td>\n",
       "      <td>2021</td>\n",
       "      <td>PG</td>\n",
       "      <td>91</td>\n",
       "      <td>Children &amp; Family Movies</td>\n",
       "      <td>Equestria's divided. But a bright-eyed hero be...</td>\n",
       "    </tr>\n",
       "  </tbody>\n",
       "</table>\n",
       "</div>"
      ],
      "text/plain": [
       "  show_id   type                             title         director  \\\n",
       "0      s1  Movie              Dick Johnson Is Dead  Kirsten Johnson   \n",
       "1      s7  Movie  My Little Pony: A New Generation    Robert Cullen   \n",
       "2      s7  Movie  My Little Pony: A New Generation   José Luis Ucha   \n",
       "\n",
       "              cast        country date_added  release_year rating  duration  \\\n",
       "0              nan  United States 2021-09-25          2020  PG-13        90   \n",
       "1  Vanessa Hudgens            nan 2021-09-24          2021     PG        91   \n",
       "2  Vanessa Hudgens            nan 2021-09-24          2021     PG        91   \n",
       "\n",
       "                  listed_in                                        description  \n",
       "0             Documentaries  As her father nears the end of his life, filmm...  \n",
       "1  Children & Family Movies  Equestria's divided. But a bright-eyed hero be...  \n",
       "2  Children & Family Movies  Equestria's divided. But a bright-eyed hero be...  "
      ]
     },
     "execution_count": 43,
     "metadata": {},
     "output_type": "execute_result"
    }
   ],
   "source": [
    "df_movies.head(3)"
   ]
  },
  {
   "cell_type": "code",
   "execution_count": 44,
   "id": "e5c0c091",
   "metadata": {},
   "outputs": [
    {
     "data": {
      "text/plain": [
       "0"
      ]
     },
     "execution_count": 44,
     "metadata": {},
     "output_type": "execute_result"
    }
   ],
   "source": [
    "df_movies[df_movies[\"director\"] == \"nan\"].shape[0]\n",
    "# no nan values directors column"
   ]
  },
  {
   "cell_type": "markdown",
   "id": "f2d156f7",
   "metadata": {},
   "source": [
    "##### Filling missing values in country column of movies data(df_movies)"
   ]
  },
  {
   "cell_type": "code",
   "execution_count": 45,
   "id": "12e56602",
   "metadata": {},
   "outputs": [],
   "source": [
    "# 1) we have director now, so find that director's top occuring country and fill with that. but if the country is null then step2\n",
    "# 2) will with top most occuring country\n",
    "\n",
    "def country_impute(x):\n",
    "    if x[\"country\"] == \"nan\":\n",
    "        c = func5(x[\"director\"])\n",
    "        output_d = df_movies.groupby(\"director\")[\"country\"].value_counts().loc[c].sort_values(ascending = False).index\n",
    "        name_d = func6(output_d)\n",
    "        if name_d == \"nan\":\n",
    "            nam1 = df_movies.groupby([\"country\"])[\"show_id\"].count().sort_values(ascending = False).index[0]\n",
    "            x[\"country\"] = nam1\n",
    "            return x\n",
    "        x[\"country\"] = name_d\n",
    "    return x\n",
    "            \n",
    "        \n",
    "        "
   ]
  },
  {
   "cell_type": "markdown",
   "id": "db15b1e6",
   "metadata": {},
   "source": [
    "##### Perfom as did for director impute\n",
    "    apply country_impute\n",
    "    merge df_movies_original(temp data ) with df_movies\n",
    "    remove and rename extra cloumns after merge"
   ]
  },
  {
   "cell_type": "code",
   "execution_count": 46,
   "id": "922aeda6",
   "metadata": {},
   "outputs": [],
   "source": [
    "df_movies_original = df_movies_original.apply(country_impute,axis = 1)"
   ]
  },
  {
   "cell_type": "code",
   "execution_count": 47,
   "id": "823263d5",
   "metadata": {},
   "outputs": [
    {
     "data": {
      "text/plain": [
       "0"
      ]
     },
     "execution_count": 47,
     "metadata": {},
     "output_type": "execute_result"
    }
   ],
   "source": [
    "df_movies_original[df_movies_original[\"country\"] == \"nan\"].shape[0]"
   ]
  },
  {
   "cell_type": "code",
   "execution_count": 48,
   "id": "7f4404d0",
   "metadata": {},
   "outputs": [],
   "source": [
    "df_temp = df_movies_original[[\"title\", \"country\"]]\n",
    "df_movies = df_movies.merge(df_temp, on = \"title\")"
   ]
  },
  {
   "cell_type": "code",
   "execution_count": 49,
   "id": "aff075e5",
   "metadata": {},
   "outputs": [
    {
     "data": {
      "text/plain": [
       "6131"
      ]
     },
     "execution_count": 49,
     "metadata": {},
     "output_type": "execute_result"
    }
   ],
   "source": [
    "df_movies.groupby(\"title\").ngroups"
   ]
  },
  {
   "cell_type": "code",
   "execution_count": 50,
   "id": "3e71a221",
   "metadata": {},
   "outputs": [],
   "source": [
    "def fill_d1(x):\n",
    "    if x[\"country_x\"] == \"nan\":\n",
    "        x[\"country_x\"] = x[\"country_y\"]\n",
    "    return x \n",
    "df_movies = df_movies.apply(fill_d1,axis = 1)"
   ]
  },
  {
   "cell_type": "code",
   "execution_count": 51,
   "id": "9ecc98a7",
   "metadata": {},
   "outputs": [],
   "source": [
    "df_movies.drop(columns=\"country_y\",inplace=True)\n",
    "df_movies.rename(columns = {'country_x':'country'}, inplace = True)"
   ]
  },
  {
   "cell_type": "code",
   "execution_count": 52,
   "id": "0921b374",
   "metadata": {},
   "outputs": [
    {
     "data": {
      "text/plain": [
       "0"
      ]
     },
     "execution_count": 52,
     "metadata": {},
     "output_type": "execute_result"
    }
   ],
   "source": [
    "df_movies[df_movies[\"country\"] == \"nan\"].shape[0]"
   ]
  },
  {
   "cell_type": "markdown",
   "id": "191153a8",
   "metadata": {},
   "source": [
    "##### Filling missing values in cast column of movies data(df_movies)"
   ]
  },
  {
   "cell_type": "code",
   "execution_count": 53,
   "id": "d1178ba0",
   "metadata": {},
   "outputs": [],
   "source": [
    "# takes list of index and return one if not nan\n",
    "def fun9(x1):\n",
    "    ind = x1.index\n",
    "    for i in ind:\n",
    "        if i != \"nan\":\n",
    "            return [x1.loc[i], i]\n",
    "    return [0,\"nan\"]\n",
    "\n",
    "            \n",
    "#we get the c1(list of the current row country's), c2(list of the current row genre)\n",
    "#we then form tuples of c1 * c2, to give to get_group of groupby object\n",
    "# taking group by of country and listed_in combined and checking for highest count in current row's tuple's\n",
    "def func10(c1,c2):\n",
    "    op_pl  = df_movies.groupby([\"country\", \"listed_in\"])\n",
    "    t1 = []\n",
    "    for i in c1:\n",
    "        for j in c2:\n",
    "            t1.append((i,j))\n",
    "    ans = [0,\"nan\"]\n",
    "    for tup in t1:\n",
    "        output_d = op_pl.get_group((tup[0],tup[1]))[\"cast\"].value_counts().sort_values(ascending=False)\n",
    "        op_d = fun9(output_d)\n",
    "        if op_d[0] != 0:\n",
    "            if op_d[0] > ans[0]:\n",
    "                ans = op_d\n",
    "    return ans\n",
    "\n",
    "# if we get answer from func10 then return else\n",
    "# fill with that country's top cast\n",
    "def cast_impute(x):\n",
    "    if x[\"cast\"] == \"nan\":\n",
    "        c1 = func5(x[\"country\"])\n",
    "        c2 = func5(x[\"listed_in\"])\n",
    "        op_d = func10(c1,c2)\n",
    "#         output_d = df_movies.groupby([\"country\", \"listed_in\"]).get_group((c1[0],c2[0]))[\"cast\"].value_counts().sort_values(ascending=False).index\n",
    "#         op_d = fun9(output_d)\n",
    "        if op_d[1] != \"nan\":\n",
    "            x[\"cast\"] = op_d[1]\n",
    "            return x\n",
    "        output_d = df_movies.groupby(\"country\")[\"cast\"].value_counts().loc[c1[0]].sort_values(ascending = False).index\n",
    "        name_d = func6(output_d)\n",
    "        x[\"cast\"] = name_d\n",
    "    return x"
   ]
  },
  {
   "cell_type": "markdown",
   "id": "cf62a38d",
   "metadata": {},
   "source": [
    "###### Perfom as did for director impute nad country impute\n",
    "    apply cast_impute\n",
    "    merge df_movies_original(temp data ) with df_movies\n",
    "    remove and rename extra cloumns after merge"
   ]
  },
  {
   "cell_type": "code",
   "execution_count": 54,
   "id": "31e8a242",
   "metadata": {},
   "outputs": [],
   "source": [
    "df_movies_original = df_movies_original.apply(cast_impute,axis = 1)"
   ]
  },
  {
   "cell_type": "code",
   "execution_count": 55,
   "id": "173eeb63",
   "metadata": {},
   "outputs": [
    {
     "data": {
      "text/plain": [
       "0"
      ]
     },
     "execution_count": 55,
     "metadata": {},
     "output_type": "execute_result"
    }
   ],
   "source": [
    "df_movies_original[df_movies_original[\"cast\"] == \"nan\"].shape[0]"
   ]
  },
  {
   "cell_type": "code",
   "execution_count": 56,
   "id": "58ee0373",
   "metadata": {},
   "outputs": [],
   "source": [
    "df_temp = df_movies_original[[\"title\", \"cast\"]]\n",
    "df_movies = df_movies.merge(df_temp, on = \"title\")"
   ]
  },
  {
   "cell_type": "code",
   "execution_count": 57,
   "id": "ccc12463",
   "metadata": {},
   "outputs": [],
   "source": [
    "def fill_d2(x):\n",
    "    if x[\"cast_x\"] == \"nan\":\n",
    "        x[\"cast_x\"] = x[\"cast_y\"]\n",
    "    return x \n",
    "df_movies = df_movies.apply(fill_d2,axis = 1)"
   ]
  },
  {
   "cell_type": "code",
   "execution_count": 58,
   "id": "0208a0e5",
   "metadata": {},
   "outputs": [],
   "source": [
    "df_movies.drop(columns=\"cast_y\",inplace=True)\n",
    "df_movies.rename(columns = {'cast_x':'cast'}, inplace = True)"
   ]
  },
  {
   "cell_type": "code",
   "execution_count": 59,
   "id": "3bf93537",
   "metadata": {},
   "outputs": [
    {
     "data": {
      "text/plain": [
       "0"
      ]
     },
     "execution_count": 59,
     "metadata": {},
     "output_type": "execute_result"
    }
   ],
   "source": [
    "df_movies[df_movies[\"cast\"] == \"nan\"].shape[0]"
   ]
  },
  {
   "cell_type": "markdown",
   "id": "dad12cd3",
   "metadata": {},
   "source": [
    "### work on series data(df_series)"
   ]
  },
  {
   "cell_type": "code",
   "execution_count": 60,
   "id": "0ddc7003",
   "metadata": {},
   "outputs": [
    {
     "data": {
      "text/html": [
       "<div>\n",
       "<style scoped>\n",
       "    .dataframe tbody tr th:only-of-type {\n",
       "        vertical-align: middle;\n",
       "    }\n",
       "\n",
       "    .dataframe tbody tr th {\n",
       "        vertical-align: top;\n",
       "    }\n",
       "\n",
       "    .dataframe thead th {\n",
       "        text-align: right;\n",
       "    }\n",
       "</style>\n",
       "<table border=\"1\" class=\"dataframe\">\n",
       "  <thead>\n",
       "    <tr style=\"text-align: right;\">\n",
       "      <th></th>\n",
       "      <th>show_id</th>\n",
       "      <th>type</th>\n",
       "      <th>title</th>\n",
       "      <th>director</th>\n",
       "      <th>cast</th>\n",
       "      <th>country</th>\n",
       "      <th>date_added</th>\n",
       "      <th>release_year</th>\n",
       "      <th>rating</th>\n",
       "      <th>duration</th>\n",
       "      <th>listed_in</th>\n",
       "      <th>description</th>\n",
       "    </tr>\n",
       "  </thead>\n",
       "  <tbody>\n",
       "    <tr>\n",
       "      <th>1</th>\n",
       "      <td>s2</td>\n",
       "      <td>TV Show</td>\n",
       "      <td>Blood &amp; Water</td>\n",
       "      <td>nan</td>\n",
       "      <td>Ama Qamata, Khosi Ngema, Gail Mabalane, Thaban...</td>\n",
       "      <td>South Africa</td>\n",
       "      <td>2021-09-24</td>\n",
       "      <td>2021</td>\n",
       "      <td>TV-MA</td>\n",
       "      <td>2</td>\n",
       "      <td>International TV Shows, TV Dramas, TV Mysteries</td>\n",
       "      <td>After crossing paths at a party, a Cape Town t...</td>\n",
       "    </tr>\n",
       "    <tr>\n",
       "      <th>2</th>\n",
       "      <td>s3</td>\n",
       "      <td>TV Show</td>\n",
       "      <td>Ganglands</td>\n",
       "      <td>Julien Leclercq</td>\n",
       "      <td>Sami Bouajila, Tracy Gotoas, Samuel Jouy, Nabi...</td>\n",
       "      <td>nan</td>\n",
       "      <td>2021-09-24</td>\n",
       "      <td>2021</td>\n",
       "      <td>TV-MA</td>\n",
       "      <td>1</td>\n",
       "      <td>Crime TV Shows, International TV Shows, TV Act...</td>\n",
       "      <td>To protect his family from a powerful drug lor...</td>\n",
       "    </tr>\n",
       "    <tr>\n",
       "      <th>3</th>\n",
       "      <td>s4</td>\n",
       "      <td>TV Show</td>\n",
       "      <td>Jailbirds New Orleans</td>\n",
       "      <td>nan</td>\n",
       "      <td>nan</td>\n",
       "      <td>nan</td>\n",
       "      <td>2021-09-24</td>\n",
       "      <td>2021</td>\n",
       "      <td>TV-MA</td>\n",
       "      <td>1</td>\n",
       "      <td>Docuseries, Reality TV</td>\n",
       "      <td>Feuds, flirtations and toilet talk go down amo...</td>\n",
       "    </tr>\n",
       "  </tbody>\n",
       "</table>\n",
       "</div>"
      ],
      "text/plain": [
       "  show_id     type                  title         director  \\\n",
       "1      s2  TV Show          Blood & Water              nan   \n",
       "2      s3  TV Show              Ganglands  Julien Leclercq   \n",
       "3      s4  TV Show  Jailbirds New Orleans              nan   \n",
       "\n",
       "                                                cast       country date_added  \\\n",
       "1  Ama Qamata, Khosi Ngema, Gail Mabalane, Thaban...  South Africa 2021-09-24   \n",
       "2  Sami Bouajila, Tracy Gotoas, Samuel Jouy, Nabi...           nan 2021-09-24   \n",
       "3                                                nan           nan 2021-09-24   \n",
       "\n",
       "   release_year rating  duration  \\\n",
       "1          2021  TV-MA         2   \n",
       "2          2021  TV-MA         1   \n",
       "3          2021  TV-MA         1   \n",
       "\n",
       "                                           listed_in  \\\n",
       "1    International TV Shows, TV Dramas, TV Mysteries   \n",
       "2  Crime TV Shows, International TV Shows, TV Act...   \n",
       "3                             Docuseries, Reality TV   \n",
       "\n",
       "                                         description  \n",
       "1  After crossing paths at a party, a Cape Town t...  \n",
       "2  To protect his family from a powerful drug lor...  \n",
       "3  Feuds, flirtations and toilet talk go down amo...  "
      ]
     },
     "execution_count": 60,
     "metadata": {},
     "output_type": "execute_result"
    }
   ],
   "source": [
    "df_series.head(3)"
   ]
  },
  {
   "cell_type": "markdown",
   "id": "438fd7e7",
   "metadata": {},
   "source": [
    "##### perform split, explode as did for df_movies "
   ]
  },
  {
   "cell_type": "code",
   "execution_count": 61,
   "id": "e2cefaf5",
   "metadata": {},
   "outputs": [],
   "source": [
    "df_series[\"director\"] = df_series[\"director\"].str.split(\",\")\n",
    "df_series[\"cast\"] = df_series[\"cast\"].str.split(\",\")\n",
    "df_series[\"country\"] = df_series[\"country\"].str.split(\",\")\n",
    "df_series[\"listed_in\"] = df_series[\"listed_in\"].str.split(\",\")"
   ]
  },
  {
   "cell_type": "code",
   "execution_count": 62,
   "id": "8f55b300",
   "metadata": {},
   "outputs": [],
   "source": [
    "df_series[\"director\"] = df_series[\"director\"].apply(remove_spaces)\n",
    "df_series[\"cast\"] = df_series[\"cast\"].apply(remove_spaces)\n",
    "df_series[\"country\"] = df_series[\"country\"].apply(remove_spaces)\n",
    "df_series[\"listed_in\"] = df_series[\"listed_in\"].apply(remove_spaces)"
   ]
  },
  {
   "cell_type": "code",
   "execution_count": 63,
   "id": "f7833211",
   "metadata": {},
   "outputs": [],
   "source": [
    "df_series = df_series.explode(\"director\")\n",
    "df_series = df_series.explode(\"cast\")\n",
    "df_series = df_series.explode(\"country\")\n",
    "df_series = df_series.explode(\"listed_in\")"
   ]
  },
  {
   "cell_type": "code",
   "execution_count": 64,
   "id": "2155da23",
   "metadata": {},
   "outputs": [
    {
     "data": {
      "text/plain": [
       "56140"
      ]
     },
     "execution_count": 64,
     "metadata": {},
     "output_type": "execute_result"
    }
   ],
   "source": [
    "df_series.shape[0]"
   ]
  },
  {
   "cell_type": "code",
   "execution_count": 65,
   "id": "3358c223",
   "metadata": {},
   "outputs": [
    {
     "data": {
      "text/plain": [
       "2676"
      ]
     },
     "execution_count": 65,
     "metadata": {},
     "output_type": "execute_result"
    }
   ],
   "source": [
    "df_series_original = df[df[\"type\"] == \"TV Show\"]\n",
    "df_series_original.shape[0]"
   ]
  },
  {
   "cell_type": "markdown",
   "id": "7b9909ab",
   "metadata": {},
   "source": [
    "##### Filling missing values in country column of series data(df_series)"
   ]
  },
  {
   "cell_type": "code",
   "execution_count": 66,
   "id": "831e201a",
   "metadata": {},
   "outputs": [],
   "source": [
    "# if from given list of directors, director is present in whole data, then give that directors country \n",
    "def func18(c):\n",
    "    for i in c:\n",
    "        if df_movies[df_movies[\"director\"] == i].shape[0] > 0:\n",
    "            return df_movies[df_movies[\"director\"] == i].iloc[0,5]\n",
    "    return \"nan\"\n",
    "\n",
    "# return country of given cast from movies data\n",
    "def func19(c):\n",
    "    for i in c:\n",
    "        if df_movies[df_movies[\"cast\"] == i].shape[0] > 0:\n",
    "            return df_movies[df_movies[\"cast\"] == i].iloc[0,5]\n",
    "    return \"nan\"\n",
    "\n",
    "# 1) check if director is present, check that director in movies data or series data, fill with that directors country else step 2\n",
    "# 2) check if cast is present, from series data fill with that cast's top country or from movies data that casts' country, else step 3\n",
    "# 3) fill with that genre's top country, if not exists then fill with entire data's top country which is US\n",
    "def country_impute_series(x):\n",
    "    if x[\"country\"] == \"nan\":\n",
    "        if x[\"director\"] != \"nan\":\n",
    "            c = func5(x[\"director\"])\n",
    "            op_d1 = func18(c)\n",
    "            if op_d1 != \"nan\":\n",
    "                x[\"country\"] = op_d1\n",
    "                return x\n",
    "            output_d = df_series.groupby(\"director\")[\"country\"].value_counts().loc[c].sort_values(ascending = False).index\n",
    "            name_d = func6(output_d)\n",
    "            if name_d != \"nan\":\n",
    "                x[\"country\"] = name_d\n",
    "                return x\n",
    "        if x[\"cast\"] != \"nan\":\n",
    "            c = func5(x[\"cast\"])\n",
    "            output_d = df_series.groupby(\"cast\")[\"country\"].value_counts().loc[c].sort_values(ascending = False).index\n",
    "            name_d = func6(output_d)\n",
    "            if name_d != \"nan\":\n",
    "                x[\"country\"] = name_d\n",
    "                return x\n",
    "            op_d1 = func19(c)\n",
    "            if op_d1 != \"nan\":\n",
    "                x[\"country\"] = op_d1\n",
    "                return x\n",
    "        c = func5(x[\"listed_in\"])\n",
    "        output_d = df_series.groupby(\"listed_in\")[\"country\"].value_counts().loc[c].sort_values(ascending = False).index\n",
    "        name_d = func6(output_d)\n",
    "        if name_d != \"nan\":\n",
    "            x[\"country\"] = name_d\n",
    "            return x\n",
    "        else:\n",
    "            x[\"country\"] = \"United States\"\n",
    "    return x\n",
    "            \n",
    "            \n",
    "        "
   ]
  },
  {
   "cell_type": "markdown",
   "id": "5bb57973",
   "metadata": {},
   "source": [
    "##### Perfom as did for director impute nad country impute\n",
    "    apply country_impute_series\n",
    "    merge df_series_original(temp data ) with df_series\n",
    "    remove and rename extra cloumns after merge"
   ]
  },
  {
   "cell_type": "code",
   "execution_count": 67,
   "id": "c2449159",
   "metadata": {},
   "outputs": [],
   "source": [
    "df_series_original = df_series_original.apply(country_impute_series,axis = 1)"
   ]
  },
  {
   "cell_type": "code",
   "execution_count": 68,
   "id": "57a1da8e",
   "metadata": {},
   "outputs": [
    {
     "data": {
      "text/plain": [
       "0"
      ]
     },
     "execution_count": 68,
     "metadata": {},
     "output_type": "execute_result"
    }
   ],
   "source": [
    "df_series_original[df_series_original[\"country\"] == \"nan\"].shape[0]"
   ]
  },
  {
   "cell_type": "code",
   "execution_count": 69,
   "id": "c2c87d77",
   "metadata": {},
   "outputs": [],
   "source": [
    "df_temp = df_series_original[[\"title\", \"country\"]]\n",
    "df_series = df_series.merge(df_temp, on = \"title\")"
   ]
  },
  {
   "cell_type": "code",
   "execution_count": 70,
   "id": "98576537",
   "metadata": {},
   "outputs": [
    {
     "data": {
      "text/plain": [
       "Index(['show_id', 'type', 'title', 'director', 'cast', 'country_x',\n",
       "       'date_added', 'release_year', 'rating', 'duration', 'listed_in',\n",
       "       'description', 'country_y'],\n",
       "      dtype='object')"
      ]
     },
     "execution_count": 70,
     "metadata": {},
     "output_type": "execute_result"
    }
   ],
   "source": [
    "df_series.columns"
   ]
  },
  {
   "cell_type": "code",
   "execution_count": 71,
   "id": "e92e1599",
   "metadata": {},
   "outputs": [],
   "source": [
    "def fill_d3(x):\n",
    "    if x[\"country_x\"] == \"nan\":\n",
    "        x[\"country_x\"] = x[\"country_y\"]\n",
    "    return x \n",
    "df_series = df_series.apply(fill_d3,axis = 1)"
   ]
  },
  {
   "cell_type": "code",
   "execution_count": 72,
   "id": "e9d93443",
   "metadata": {},
   "outputs": [],
   "source": [
    "df_series.drop(columns=\"country_y\",inplace=True)\n",
    "df_series.rename(columns = {'country_x':'country'}, inplace = True)"
   ]
  },
  {
   "cell_type": "code",
   "execution_count": 73,
   "id": "fafd1394",
   "metadata": {},
   "outputs": [
    {
     "data": {
      "text/html": [
       "<div>\n",
       "<style scoped>\n",
       "    .dataframe tbody tr th:only-of-type {\n",
       "        vertical-align: middle;\n",
       "    }\n",
       "\n",
       "    .dataframe tbody tr th {\n",
       "        vertical-align: top;\n",
       "    }\n",
       "\n",
       "    .dataframe thead th {\n",
       "        text-align: right;\n",
       "    }\n",
       "</style>\n",
       "<table border=\"1\" class=\"dataframe\">\n",
       "  <thead>\n",
       "    <tr style=\"text-align: right;\">\n",
       "      <th></th>\n",
       "      <th>show_id</th>\n",
       "      <th>type</th>\n",
       "      <th>title</th>\n",
       "      <th>director</th>\n",
       "      <th>cast</th>\n",
       "      <th>country</th>\n",
       "      <th>date_added</th>\n",
       "      <th>release_year</th>\n",
       "      <th>rating</th>\n",
       "      <th>duration</th>\n",
       "      <th>listed_in</th>\n",
       "      <th>description</th>\n",
       "    </tr>\n",
       "  </thead>\n",
       "  <tbody>\n",
       "    <tr>\n",
       "      <th>0</th>\n",
       "      <td>s2</td>\n",
       "      <td>TV Show</td>\n",
       "      <td>Blood &amp; Water</td>\n",
       "      <td>nan</td>\n",
       "      <td>Ama Qamata</td>\n",
       "      <td>South Africa</td>\n",
       "      <td>2021-09-24</td>\n",
       "      <td>2021</td>\n",
       "      <td>TV-MA</td>\n",
       "      <td>2</td>\n",
       "      <td>International TV Shows</td>\n",
       "      <td>After crossing paths at a party, a Cape Town t...</td>\n",
       "    </tr>\n",
       "    <tr>\n",
       "      <th>1</th>\n",
       "      <td>s2</td>\n",
       "      <td>TV Show</td>\n",
       "      <td>Blood &amp; Water</td>\n",
       "      <td>nan</td>\n",
       "      <td>Ama Qamata</td>\n",
       "      <td>South Africa</td>\n",
       "      <td>2021-09-24</td>\n",
       "      <td>2021</td>\n",
       "      <td>TV-MA</td>\n",
       "      <td>2</td>\n",
       "      <td>TV Dramas</td>\n",
       "      <td>After crossing paths at a party, a Cape Town t...</td>\n",
       "    </tr>\n",
       "  </tbody>\n",
       "</table>\n",
       "</div>"
      ],
      "text/plain": [
       "  show_id     type          title director        cast       country  \\\n",
       "0      s2  TV Show  Blood & Water      nan  Ama Qamata  South Africa   \n",
       "1      s2  TV Show  Blood & Water      nan  Ama Qamata  South Africa   \n",
       "\n",
       "  date_added  release_year rating  duration               listed_in  \\\n",
       "0 2021-09-24          2021  TV-MA         2  International TV Shows   \n",
       "1 2021-09-24          2021  TV-MA         2               TV Dramas   \n",
       "\n",
       "                                         description  \n",
       "0  After crossing paths at a party, a Cape Town t...  \n",
       "1  After crossing paths at a party, a Cape Town t...  "
      ]
     },
     "execution_count": 73,
     "metadata": {},
     "output_type": "execute_result"
    }
   ],
   "source": [
    "df_series.head(2)"
   ]
  },
  {
   "cell_type": "code",
   "execution_count": 74,
   "id": "ac73c25b",
   "metadata": {},
   "outputs": [
    {
     "data": {
      "text/plain": [
       "0"
      ]
     },
     "execution_count": 74,
     "metadata": {},
     "output_type": "execute_result"
    }
   ],
   "source": [
    "df_series[df_series[\"country\"] == \"nan\"].shape[0]"
   ]
  },
  {
   "cell_type": "markdown",
   "id": "02da4166",
   "metadata": {},
   "source": [
    "##### Filling missing values in cast column of series data(df_series)"
   ]
  },
  {
   "cell_type": "code",
   "execution_count": 75,
   "id": "1f2d37a6",
   "metadata": {},
   "outputs": [
    {
     "data": {
      "text/plain": [
       "350"
      ]
     },
     "execution_count": 75,
     "metadata": {},
     "output_type": "execute_result"
    }
   ],
   "source": [
    "df_series_original[df_series_original[\"cast\"] == \"nan\"].shape[0]"
   ]
  },
  {
   "cell_type": "code",
   "execution_count": 76,
   "id": "7daa2e9e",
   "metadata": {},
   "outputs": [],
   "source": [
    "\n",
    "#we get the c1(list of the current row country's), c2(list of the current row genre)\n",
    "#we then form tuples of c1 * c2, to give to get_group of groupby object\n",
    "# taking group by of country and listed_in combined and checking for highest count in current row's tuple's\n",
    "def func11(c1,c2):\n",
    "    op_pl  = df_series.groupby([\"country\", \"listed_in\"])\n",
    "    t1 = []\n",
    "    for i in c1:\n",
    "        for j in c2:\n",
    "            t1.append((i,j))\n",
    "    ans = [0,\"nan\"]\n",
    "    for tup in t1:\n",
    "        output_d = op_pl.get_group((tup[0],tup[1]))[\"cast\"].value_counts().sort_values(ascending=False)\n",
    "        op_d = fun9(output_d)\n",
    "        if op_d[0] != 0:\n",
    "            if op_d[0] > ans[0]:\n",
    "                ans = op_d\n",
    "    return ans\n",
    "\n",
    "\n",
    "## if we get answer from func11 then return else\n",
    "# fill with that country's top cast\n",
    "def cast_impute_series(x):\n",
    "    if x[\"cast\"] == \"nan\":\n",
    "        c1 = func5(x[\"country\"])\n",
    "        c2 = func5(x[\"listed_in\"])\n",
    "        op_d = func11(c1,c2)\n",
    "#         output_d = df_series.groupby([\"country\", \"listed_in\"]).get_group((c1[0],c2[0]))[\"cast\"].value_counts().sort_values(ascending=False).index\n",
    "#         op_d = fun9(output_d)\n",
    "        if op_d[1] != \"nan\":\n",
    "            x[\"cast\"] = op_d[1]\n",
    "            return x\n",
    "        output_d = df_series.groupby(\"country\")[\"cast\"].value_counts().loc[c1[0]].sort_values(ascending = False).index\n",
    "        name_d = func6(output_d)\n",
    "        x[\"cast\"] = name_d\n",
    "    return x"
   ]
  },
  {
   "cell_type": "markdown",
   "id": "741e6517",
   "metadata": {},
   "source": [
    "##### Perfom as did for director impute nad country impute\n",
    "    apply cast_impute_series\n",
    "    merge df_series_original(temp data ) with df_series\n",
    "    remove and rename extra cloumns after merge"
   ]
  },
  {
   "cell_type": "code",
   "execution_count": 77,
   "id": "df3c54ed",
   "metadata": {},
   "outputs": [],
   "source": [
    "df_series_original = df_series_original.apply(cast_impute_series,axis = 1)"
   ]
  },
  {
   "cell_type": "code",
   "execution_count": 78,
   "id": "86edbe60",
   "metadata": {},
   "outputs": [
    {
     "data": {
      "text/plain": [
       "0"
      ]
     },
     "execution_count": 78,
     "metadata": {},
     "output_type": "execute_result"
    }
   ],
   "source": [
    "df_series_original[df_series_original[\"cast\"] == \"nan\"].shape[0]"
   ]
  },
  {
   "cell_type": "code",
   "execution_count": 79,
   "id": "5f2ba037",
   "metadata": {},
   "outputs": [],
   "source": [
    "df_temp = df_series_original[[\"title\", \"cast\"]]\n",
    "df_series = df_series.merge(df_temp, on = \"title\")"
   ]
  },
  {
   "cell_type": "code",
   "execution_count": 80,
   "id": "1649249e",
   "metadata": {},
   "outputs": [
    {
     "data": {
      "text/plain": [
       "Index(['show_id', 'type', 'title', 'director', 'cast_x', 'country',\n",
       "       'date_added', 'release_year', 'rating', 'duration', 'listed_in',\n",
       "       'description', 'cast_y'],\n",
       "      dtype='object')"
      ]
     },
     "execution_count": 80,
     "metadata": {},
     "output_type": "execute_result"
    }
   ],
   "source": [
    "df_series.columns"
   ]
  },
  {
   "cell_type": "code",
   "execution_count": 81,
   "id": "acc10b84",
   "metadata": {},
   "outputs": [],
   "source": [
    "def fill_d4(x):\n",
    "    if x[\"cast_x\"] == \"nan\":\n",
    "        x[\"cast_x\"] = x[\"cast_y\"]\n",
    "    return x \n",
    "df_series = df_series.apply(fill_d4,axis = 1)"
   ]
  },
  {
   "cell_type": "code",
   "execution_count": 82,
   "id": "6fe61743",
   "metadata": {},
   "outputs": [],
   "source": [
    "df_series.drop(columns=\"cast_y\",inplace=True)\n",
    "df_series.rename(columns = {'cast_x':'cast'}, inplace = True)"
   ]
  },
  {
   "cell_type": "code",
   "execution_count": 83,
   "id": "725c43e9",
   "metadata": {},
   "outputs": [
    {
     "data": {
      "text/plain": [
       "0"
      ]
     },
     "execution_count": 83,
     "metadata": {},
     "output_type": "execute_result"
    }
   ],
   "source": [
    "df_series[df_series[\"cast\"] == \"nan\"].shape[0]"
   ]
  },
  {
   "cell_type": "code",
   "execution_count": 84,
   "id": "f95a56d6",
   "metadata": {},
   "outputs": [
    {
     "data": {
      "text/plain": [
       "145819"
      ]
     },
     "execution_count": 84,
     "metadata": {},
     "output_type": "execute_result"
    }
   ],
   "source": [
    "df_movies.shape[0]"
   ]
  },
  {
   "cell_type": "code",
   "execution_count": 85,
   "id": "dba47660",
   "metadata": {},
   "outputs": [
    {
     "data": {
      "text/plain": [
       "56140"
      ]
     },
     "execution_count": 85,
     "metadata": {},
     "output_type": "execute_result"
    }
   ],
   "source": [
    "df_series.shape[0]"
   ]
  },
  {
   "cell_type": "markdown",
   "id": "49de6564",
   "metadata": {},
   "source": [
    "### concat df_movies and df_series to form complete data"
   ]
  },
  {
   "cell_type": "code",
   "execution_count": 86,
   "id": "97c5fa20",
   "metadata": {},
   "outputs": [],
   "source": [
    "df_new = pd.concat([df_movies, df_series], ignore_index = True)"
   ]
  },
  {
   "cell_type": "code",
   "execution_count": 87,
   "id": "19c361fc",
   "metadata": {},
   "outputs": [
    {
     "data": {
      "text/plain": [
       "201959"
      ]
     },
     "execution_count": 87,
     "metadata": {},
     "output_type": "execute_result"
    }
   ],
   "source": [
    "df_new.shape[0]"
   ]
  },
  {
   "cell_type": "code",
   "execution_count": 88,
   "id": "4cac24f0",
   "metadata": {},
   "outputs": [
    {
     "data": {
      "text/html": [
       "<div>\n",
       "<style scoped>\n",
       "    .dataframe tbody tr th:only-of-type {\n",
       "        vertical-align: middle;\n",
       "    }\n",
       "\n",
       "    .dataframe tbody tr th {\n",
       "        vertical-align: top;\n",
       "    }\n",
       "\n",
       "    .dataframe thead th {\n",
       "        text-align: right;\n",
       "    }\n",
       "</style>\n",
       "<table border=\"1\" class=\"dataframe\">\n",
       "  <thead>\n",
       "    <tr style=\"text-align: right;\">\n",
       "      <th></th>\n",
       "      <th>show_id</th>\n",
       "      <th>type</th>\n",
       "      <th>title</th>\n",
       "      <th>director</th>\n",
       "      <th>cast</th>\n",
       "      <th>country</th>\n",
       "      <th>date_added</th>\n",
       "      <th>release_year</th>\n",
       "      <th>rating</th>\n",
       "      <th>duration</th>\n",
       "      <th>listed_in</th>\n",
       "      <th>description</th>\n",
       "    </tr>\n",
       "  </thead>\n",
       "  <tbody>\n",
       "    <tr>\n",
       "      <th>0</th>\n",
       "      <td>s1</td>\n",
       "      <td>Movie</td>\n",
       "      <td>Dick Johnson Is Dead</td>\n",
       "      <td>Kirsten Johnson</td>\n",
       "      <td>Quincy Jones</td>\n",
       "      <td>United States</td>\n",
       "      <td>2021-09-25</td>\n",
       "      <td>2020</td>\n",
       "      <td>PG-13</td>\n",
       "      <td>90</td>\n",
       "      <td>Documentaries</td>\n",
       "      <td>As her father nears the end of his life, filmm...</td>\n",
       "    </tr>\n",
       "    <tr>\n",
       "      <th>1</th>\n",
       "      <td>s7</td>\n",
       "      <td>Movie</td>\n",
       "      <td>My Little Pony: A New Generation</td>\n",
       "      <td>Robert Cullen</td>\n",
       "      <td>Vanessa Hudgens</td>\n",
       "      <td>United States</td>\n",
       "      <td>2021-09-24</td>\n",
       "      <td>2021</td>\n",
       "      <td>PG</td>\n",
       "      <td>91</td>\n",
       "      <td>Children &amp; Family Movies</td>\n",
       "      <td>Equestria's divided. But a bright-eyed hero be...</td>\n",
       "    </tr>\n",
       "    <tr>\n",
       "      <th>2</th>\n",
       "      <td>s7</td>\n",
       "      <td>Movie</td>\n",
       "      <td>My Little Pony: A New Generation</td>\n",
       "      <td>José Luis Ucha</td>\n",
       "      <td>Vanessa Hudgens</td>\n",
       "      <td>United States</td>\n",
       "      <td>2021-09-24</td>\n",
       "      <td>2021</td>\n",
       "      <td>PG</td>\n",
       "      <td>91</td>\n",
       "      <td>Children &amp; Family Movies</td>\n",
       "      <td>Equestria's divided. But a bright-eyed hero be...</td>\n",
       "    </tr>\n",
       "  </tbody>\n",
       "</table>\n",
       "</div>"
      ],
      "text/plain": [
       "  show_id   type                             title         director  \\\n",
       "0      s1  Movie              Dick Johnson Is Dead  Kirsten Johnson   \n",
       "1      s7  Movie  My Little Pony: A New Generation    Robert Cullen   \n",
       "2      s7  Movie  My Little Pony: A New Generation   José Luis Ucha   \n",
       "\n",
       "              cast        country date_added  release_year rating  duration  \\\n",
       "0     Quincy Jones  United States 2021-09-25          2020  PG-13        90   \n",
       "1  Vanessa Hudgens  United States 2021-09-24          2021     PG        91   \n",
       "2  Vanessa Hudgens  United States 2021-09-24          2021     PG        91   \n",
       "\n",
       "                  listed_in                                        description  \n",
       "0             Documentaries  As her father nears the end of his life, filmm...  \n",
       "1  Children & Family Movies  Equestria's divided. But a bright-eyed hero be...  \n",
       "2  Children & Family Movies  Equestria's divided. But a bright-eyed hero be...  "
      ]
     },
     "execution_count": 88,
     "metadata": {},
     "output_type": "execute_result"
    }
   ],
   "source": [
    "df_new.head(3)"
   ]
  },
  {
   "cell_type": "code",
   "execution_count": 89,
   "id": "9fd0c900",
   "metadata": {},
   "outputs": [
    {
     "name": "stdout",
     "output_type": "stream",
     "text": [
      "<class 'pandas.core.frame.DataFrame'>\n",
      "RangeIndex: 201959 entries, 0 to 201958\n",
      "Data columns (total 12 columns):\n",
      " #   Column        Non-Null Count   Dtype         \n",
      "---  ------        --------------   -----         \n",
      " 0   show_id       201959 non-null  object        \n",
      " 1   type          201959 non-null  object        \n",
      " 2   title         201959 non-null  object        \n",
      " 3   director      201959 non-null  object        \n",
      " 4   cast          201959 non-null  object        \n",
      " 5   country       201959 non-null  object        \n",
      " 6   date_added    201959 non-null  datetime64[ns]\n",
      " 7   release_year  201959 non-null  int64         \n",
      " 8   rating        201959 non-null  object        \n",
      " 9   duration      201959 non-null  int64         \n",
      " 10  listed_in     201959 non-null  object        \n",
      " 11  description   201959 non-null  object        \n",
      "dtypes: datetime64[ns](1), int64(2), object(9)\n",
      "memory usage: 18.5+ MB\n"
     ]
    }
   ],
   "source": [
    "df_new.info()"
   ]
  },
  {
   "cell_type": "code",
   "execution_count": 90,
   "id": "00842b8d",
   "metadata": {},
   "outputs": [
    {
     "data": {
      "text/plain": [
       "8807"
      ]
     },
     "execution_count": 90,
     "metadata": {},
     "output_type": "execute_result"
    }
   ],
   "source": [
    "df_new.groupby([\"title\"]).ngroups"
   ]
  },
  {
   "cell_type": "markdown",
   "id": "be19c868",
   "metadata": {},
   "source": [
    "# 1) Inferences based on rating"
   ]
  },
  {
   "cell_type": "code",
   "execution_count": 91,
   "id": "6d783a00",
   "metadata": {},
   "outputs": [
    {
     "data": {
      "image/png": "[encoded data removed]",
      "text/plain": [
       "<Figure size 640x480 with 1 Axes>"
      ]
     },
     "metadata": {},
     "output_type": "display_data"
    }
   ],
   "source": [
    "sns.countplot(data = df, y=df[\"rating\"])\n",
    "plt.title(\"Movies ratings count\")\n",
    "plt.show()"
   ]
  },
  {
   "cell_type": "markdown",
   "id": "c5d9fa06",
   "metadata": {},
   "source": [
    "## Movies ratings\n",
    "    Most data is TV-MA(mature audience only) and TV-14,which state most movies netflix should invest is of rating TV-MA & TV-14 as they are most worked\n",
    "    "
   ]
  },
  {
   "cell_type": "code",
   "execution_count": 92,
   "id": "20f221c4",
   "metadata": {},
   "outputs": [],
   "source": [
    "def func_plots(argu):\n",
    "    df_temp_08 = df_new.groupby([\"title\",\"rating\"])[\"country\"].value_counts().to_frame(\"count_1\").reset_index()\n",
    "    plt1 = sns.countplot(data=df_temp_08[df_temp_08[\"rating\"] == argu],x= \"country\")\n",
    "    return plt1"
   ]
  },
  {
   "cell_type": "code",
   "execution_count": 93,
   "id": "17394e99",
   "metadata": {},
   "outputs": [
    {
     "data": {
      "image/png": "[encoded data removed]",
      "text/plain": [
       "<Figure size 640x480 with 1 Axes>"
      ]
     },
     "metadata": {},
     "output_type": "display_data"
    }
   ],
   "source": [
    "# plt.figure(figsize=(10,12))\n",
    "# plt.subplot(2, 1, 1)\n",
    "plt_1 = func_plots(\"TV-Y\")\n",
    "plt.xticks(rotation = 90)\n",
    "plt.title(\"Country VS Childern movies(2-6Y)\")\n",
    "plt.show()"
   ]
  },
  {
   "cell_type": "markdown",
   "id": "cf1f5e9b",
   "metadata": {},
   "source": [
    "## TV_Y\n",
    "    Most of  TV-Y(2-6 year age) are in United states, canada, uk and france,so must be available in these countries"
   ]
  },
  {
   "cell_type": "code",
   "execution_count": 94,
   "id": "087caa65",
   "metadata": {},
   "outputs": [
    {
     "data": {
      "image/png": "[encoded data removed]",
      "text/plain": [
       "<Figure size 640x480 with 1 Axes>"
      ]
     },
     "metadata": {},
     "output_type": "display_data"
    }
   ],
   "source": [
    "plt_1 = func_plots(\"TV-G\")\n",
    "plt.xticks(rotation = 90)\n",
    "plt.title(\"Country VS TV-G(geneal)\")\n",
    "plt.show()"
   ]
  },
  {
   "cell_type": "markdown",
   "id": "6efef134",
   "metadata": {},
   "source": [
    "# 2) Inferences based on release year and date added"
   ]
  },
  {
   "cell_type": "code",
   "execution_count": 95,
   "id": "7481126d",
   "metadata": {},
   "outputs": [
    {
     "data": {
      "text/html": [
       "<div>\n",
       "<style scoped>\n",
       "    .dataframe tbody tr th:only-of-type {\n",
       "        vertical-align: middle;\n",
       "    }\n",
       "\n",
       "    .dataframe tbody tr th {\n",
       "        vertical-align: top;\n",
       "    }\n",
       "\n",
       "    .dataframe thead th {\n",
       "        text-align: right;\n",
       "    }\n",
       "</style>\n",
       "<table border=\"1\" class=\"dataframe\">\n",
       "  <thead>\n",
       "    <tr style=\"text-align: right;\">\n",
       "      <th></th>\n",
       "      <th>show_id</th>\n",
       "      <th>type</th>\n",
       "      <th>title</th>\n",
       "      <th>director</th>\n",
       "      <th>cast</th>\n",
       "      <th>country</th>\n",
       "      <th>date_added</th>\n",
       "      <th>release_year</th>\n",
       "      <th>rating</th>\n",
       "      <th>duration</th>\n",
       "      <th>listed_in</th>\n",
       "      <th>description</th>\n",
       "    </tr>\n",
       "  </thead>\n",
       "  <tbody>\n",
       "    <tr>\n",
       "      <th>0</th>\n",
       "      <td>s1</td>\n",
       "      <td>Movie</td>\n",
       "      <td>Dick Johnson Is Dead</td>\n",
       "      <td>Kirsten Johnson</td>\n",
       "      <td>nan</td>\n",
       "      <td>United States</td>\n",
       "      <td>2021-09-25</td>\n",
       "      <td>2020</td>\n",
       "      <td>PG-13</td>\n",
       "      <td>90</td>\n",
       "      <td>Documentaries</td>\n",
       "      <td>As her father nears the end of his life, filmm...</td>\n",
       "    </tr>\n",
       "    <tr>\n",
       "      <th>1</th>\n",
       "      <td>s2</td>\n",
       "      <td>TV Show</td>\n",
       "      <td>Blood &amp; Water</td>\n",
       "      <td>nan</td>\n",
       "      <td>Ama Qamata, Khosi Ngema, Gail Mabalane, Thaban...</td>\n",
       "      <td>South Africa</td>\n",
       "      <td>2021-09-24</td>\n",
       "      <td>2021</td>\n",
       "      <td>TV-MA</td>\n",
       "      <td>2</td>\n",
       "      <td>International TV Shows, TV Dramas, TV Mysteries</td>\n",
       "      <td>After crossing paths at a party, a Cape Town t...</td>\n",
       "    </tr>\n",
       "  </tbody>\n",
       "</table>\n",
       "</div>"
      ],
      "text/plain": [
       "  show_id     type                 title         director  \\\n",
       "0      s1    Movie  Dick Johnson Is Dead  Kirsten Johnson   \n",
       "1      s2  TV Show         Blood & Water              nan   \n",
       "\n",
       "                                                cast        country  \\\n",
       "0                                                nan  United States   \n",
       "1  Ama Qamata, Khosi Ngema, Gail Mabalane, Thaban...   South Africa   \n",
       "\n",
       "  date_added  release_year rating  duration  \\\n",
       "0 2021-09-25          2020  PG-13        90   \n",
       "1 2021-09-24          2021  TV-MA         2   \n",
       "\n",
       "                                         listed_in  \\\n",
       "0                                    Documentaries   \n",
       "1  International TV Shows, TV Dramas, TV Mysteries   \n",
       "\n",
       "                                         description  \n",
       "0  As her father nears the end of his life, filmm...  \n",
       "1  After crossing paths at a party, a Cape Town t...  "
      ]
     },
     "execution_count": 95,
     "metadata": {},
     "output_type": "execute_result"
    }
   ],
   "source": [
    "df.head(2)"
   ]
  },
  {
   "cell_type": "code",
   "execution_count": 96,
   "id": "92deb3e1",
   "metadata": {},
   "outputs": [
    {
     "data": {
      "image/png": "[encoded data removed]",
      "text/plain": [
       "<Figure size 640x480 with 1 Axes>"
      ]
     },
     "metadata": {},
     "output_type": "display_data"
    }
   ],
   "source": [
    "sns.boxplot(data =df, x =(df[\"date_added\"].dt.year - df[\"release_year\"]) )\n",
    "plt.xlim(-4,20)\n",
    "plt.title(\"Difference b/w date added & release year\")\n",
    "plt.show()"
   ]
  },
  {
   "cell_type": "markdown",
   "id": "b5c470b3",
   "metadata": {},
   "source": [
    "##  Gap in years b/w release date and date added\n",
    "    Median is 1 year difference and 75 percentile data is 5 years difference, so netflix should try to add movies soon after release"
   ]
  },
  {
   "cell_type": "markdown",
   "id": "db255f6d",
   "metadata": {},
   "source": [
    "# 3) Inferences based on genres"
   ]
  },
  {
   "cell_type": "code",
   "execution_count": 97,
   "id": "17d85bef",
   "metadata": {},
   "outputs": [
    {
     "data": {
      "text/html": [
       "<div>\n",
       "<style scoped>\n",
       "    .dataframe tbody tr th:only-of-type {\n",
       "        vertical-align: middle;\n",
       "    }\n",
       "\n",
       "    .dataframe tbody tr th {\n",
       "        vertical-align: top;\n",
       "    }\n",
       "\n",
       "    .dataframe thead th {\n",
       "        text-align: right;\n",
       "    }\n",
       "</style>\n",
       "<table border=\"1\" class=\"dataframe\">\n",
       "  <thead>\n",
       "    <tr style=\"text-align: right;\">\n",
       "      <th></th>\n",
       "      <th>show_id</th>\n",
       "      <th>type</th>\n",
       "      <th>title</th>\n",
       "      <th>director</th>\n",
       "      <th>cast</th>\n",
       "      <th>country</th>\n",
       "      <th>date_added</th>\n",
       "      <th>release_year</th>\n",
       "      <th>rating</th>\n",
       "      <th>duration</th>\n",
       "      <th>listed_in</th>\n",
       "      <th>description</th>\n",
       "    </tr>\n",
       "  </thead>\n",
       "  <tbody>\n",
       "    <tr>\n",
       "      <th>0</th>\n",
       "      <td>s1</td>\n",
       "      <td>Movie</td>\n",
       "      <td>Dick Johnson Is Dead</td>\n",
       "      <td>Kirsten Johnson</td>\n",
       "      <td>Quincy Jones</td>\n",
       "      <td>United States</td>\n",
       "      <td>2021-09-25</td>\n",
       "      <td>2020</td>\n",
       "      <td>PG-13</td>\n",
       "      <td>90</td>\n",
       "      <td>Documentaries</td>\n",
       "      <td>As her father nears the end of his life, filmm...</td>\n",
       "    </tr>\n",
       "    <tr>\n",
       "      <th>1</th>\n",
       "      <td>s7</td>\n",
       "      <td>Movie</td>\n",
       "      <td>My Little Pony: A New Generation</td>\n",
       "      <td>Robert Cullen</td>\n",
       "      <td>Vanessa Hudgens</td>\n",
       "      <td>United States</td>\n",
       "      <td>2021-09-24</td>\n",
       "      <td>2021</td>\n",
       "      <td>PG</td>\n",
       "      <td>91</td>\n",
       "      <td>Children &amp; Family Movies</td>\n",
       "      <td>Equestria's divided. But a bright-eyed hero be...</td>\n",
       "    </tr>\n",
       "  </tbody>\n",
       "</table>\n",
       "</div>"
      ],
      "text/plain": [
       "  show_id   type                             title         director  \\\n",
       "0      s1  Movie              Dick Johnson Is Dead  Kirsten Johnson   \n",
       "1      s7  Movie  My Little Pony: A New Generation    Robert Cullen   \n",
       "\n",
       "              cast        country date_added  release_year rating  duration  \\\n",
       "0     Quincy Jones  United States 2021-09-25          2020  PG-13        90   \n",
       "1  Vanessa Hudgens  United States 2021-09-24          2021     PG        91   \n",
       "\n",
       "                  listed_in                                        description  \n",
       "0             Documentaries  As her father nears the end of his life, filmm...  \n",
       "1  Children & Family Movies  Equestria's divided. But a bright-eyed hero be...  "
      ]
     },
     "execution_count": 97,
     "metadata": {},
     "output_type": "execute_result"
    }
   ],
   "source": [
    "df_new.head(2)"
   ]
  },
  {
   "cell_type": "code",
   "execution_count": 98,
   "id": "9fdeb1b7",
   "metadata": {},
   "outputs": [],
   "source": [
    "df_movies_l = df_movies.groupby([\"title\",\"listed_in\"])[\"type\"].value_counts().to_frame(\"count_1\").reset_index()\n",
    "df_series_l = df_series.groupby([\"title\",\"listed_in\"])[\"type\"].value_counts().to_frame(\"count_1\").reset_index()"
   ]
  },
  {
   "cell_type": "code",
   "execution_count": 99,
   "id": "e94593ad",
   "metadata": {},
   "outputs": [
    {
     "data": {
      "image/png": "[encoded data removed]",
      "text/plain": [
       "<Figure size 1000x300 with 1 Axes>"
      ]
     },
     "metadata": {},
     "output_type": "display_data"
    }
   ],
   "source": [
    "plt.figure(figsize=(10,3))\n",
    "sns.countplot(data= df_movies_l, x= df_movies_l[\"listed_in\"])\n",
    "plt.xticks(rotation = 90)\n",
    "plt.title(\"count of movies genres\")\n",
    "plt.show()"
   ]
  },
  {
   "cell_type": "markdown",
   "id": "8822a246",
   "metadata": {},
   "source": [
    "## movies genres\n",
    "    Netflix should invest more in Drama & comedy movies"
   ]
  },
  {
   "cell_type": "code",
   "execution_count": 100,
   "id": "f928052c",
   "metadata": {},
   "outputs": [
    {
     "data": {
      "image/png": "[encoded data removed]",
      "text/plain": [
       "<Figure size 1000x300 with 1 Axes>"
      ]
     },
     "metadata": {},
     "output_type": "display_data"
    }
   ],
   "source": [
    "plt.figure(figsize=(10,3))\n",
    "sns.countplot(data= df_series_l, x= df_series_l[\"listed_in\"])\n",
    "plt.xticks(rotation = 90)\n",
    "plt.title(\"count of TV series genera's\")\n",
    "plt.show()"
   ]
  },
  {
   "cell_type": "markdown",
   "id": "96dbb142",
   "metadata": {},
   "source": [
    "## Tv shows genres\n",
    "    Netflix should invest more in Drama,comedy, kid's & crime tv shows"
   ]
  },
  {
   "cell_type": "code",
   "execution_count": 101,
   "id": "487e8522",
   "metadata": {},
   "outputs": [
    {
     "data": {
      "image/png": "[encoded data removed]",
      "text/plain": [
       "<Figure size 1000x300 with 1 Axes>"
      ]
     },
     "metadata": {},
     "output_type": "display_data"
    }
   ],
   "source": [
    "df9_m = df_movies.groupby([\"title\",\"listed_in\"])[\"country\"].value_counts().to_frame(\"count_1\").reset_index()\n",
    "df9_s = df_series.groupby([\"title\",\"listed_in\"])[\"country\"].value_counts().to_frame(\"count_1\").reset_index()\n",
    "d9 = df9_s[df9_s[\"listed_in\"] == \"International TV Shows\"]\n",
    "plt.figure(figsize=(10,3))\n",
    "sns.countplot(data= d9, x= d9[\"country\"])\n",
    "plt.xticks(rotation = 90)\n",
    "plt.title(\"International TV Shows Country counts\")\n",
    "plt.show()\n",
    "d9 = df9_s[df9_s[\"listed_in\"] == \"International TV Shows\"]"
   ]
  },
  {
   "cell_type": "code",
   "execution_count": 102,
   "id": "b963ead1",
   "metadata": {},
   "outputs": [
    {
     "data": {
      "text/plain": [
       "Index(['United States', 'India', 'United Kingdom'], dtype='object')"
      ]
     },
     "execution_count": 102,
     "metadata": {},
     "output_type": "execute_result"
    }
   ],
   "source": [
    "top_3countries = df_new.groupby([\"title\"])[\"country\"].value_counts().to_frame(\"count_1\").reset_index()[\"country\"].value_counts().sort_values(ascending = False).index[:3]\n",
    "top_3countries"
   ]
  },
  {
   "cell_type": "code",
   "execution_count": 103,
   "id": "4ce10717",
   "metadata": {},
   "outputs": [
    {
     "data": {
      "text/plain": [
       "Index(['International Movies', 'Dramas', 'Comedies', 'International TV Shows',\n",
       "       'Documentaries'],\n",
       "      dtype='object')"
      ]
     },
     "execution_count": 103,
     "metadata": {},
     "output_type": "execute_result"
    }
   ],
   "source": [
    "top_5genera = df_new.groupby([\"title\"])[\"listed_in\"].value_counts().to_frame(\"count_1\").reset_index()[\"listed_in\"].value_counts().sort_values(ascending = False).index[:5]\n",
    "top_5genera"
   ]
  },
  {
   "cell_type": "code",
   "execution_count": 104,
   "id": "93dda529",
   "metadata": {},
   "outputs": [],
   "source": [
    "df_top3 = df_new[(df_new[\"country\"].isin(top_3countries)) & (df_new[\"listed_in\"].isin(top_5genera))]"
   ]
  },
  {
   "cell_type": "markdown",
   "id": "038eec41",
   "metadata": {},
   "source": [
    "# 4) Inferences from duration"
   ]
  },
  {
   "cell_type": "code",
   "execution_count": 105,
   "id": "aaaea35b",
   "metadata": {},
   "outputs": [
    {
     "data": {
      "text/plain": [
       "(50.0, 150.0)"
      ]
     },
     "execution_count": 105,
     "metadata": {},
     "output_type": "execute_result"
    },
    {
     "data": {
      "image/png": "[encoded data removed]",
      "text/plain": [
       "<Figure size 640x480 with 1 Axes>"
      ]
     },
     "metadata": {},
     "output_type": "display_data"
    }
   ],
   "source": [
    "sns.boxplot(data = df_movies, x = df_movies[\"duration\"])\n",
    "plt.xlim(50,150)"
   ]
  },
  {
   "cell_type": "markdown",
   "id": "a2c20158",
   "metadata": {},
   "source": [
    "## Duration of movies\n",
    "    Ideal duration of movies should be 95-120 mins"
   ]
  },
  {
   "cell_type": "code",
   "execution_count": 106,
   "id": "99b37b19",
   "metadata": {},
   "outputs": [
    {
     "data": {
      "text/plain": [
       "<AxesSubplot:xlabel='count', ylabel='listed_in'>"
      ]
     },
     "execution_count": 106,
     "metadata": {},
     "output_type": "execute_result"
    },
    {
     "data": {
      "image/png": "[encoded data removed]",
      "text/plain": [
       "<Figure size 640x480 with 1 Axes>"
      ]
     },
     "metadata": {},
     "output_type": "display_data"
    }
   ],
   "source": [
    "df_series_t = df_series[(df_series[\"duration\"] >= 4)].groupby([\"title\",\"listed_in\"])[\"type\"].value_counts().to_frame(\"count_1\").reset_index()\n",
    "sns.countplot(data = df_series_t, y = \"listed_in\")"
   ]
  },
  {
   "cell_type": "markdown",
   "id": "8c61e940",
   "metadata": {},
   "source": [
    "## Tv series franchie\n",
    "    To create a successful tv series franchie, most likely they should from drama & comedy genere  "
   ]
  },
  {
   "cell_type": "markdown",
   "id": "0eebaebf",
   "metadata": {},
   "source": [
    "# 5) Inferences from Cast"
   ]
  },
  {
   "cell_type": "code",
   "execution_count": 107,
   "id": "deedd152",
   "metadata": {},
   "outputs": [
    {
     "data": {
      "text/plain": [
       "Quincy Jones          264\n",
       "David Attenborough    192\n",
       "Anupam Kher            59\n",
       "Takahiro Sakurai       56\n",
       "Samuel West            52\n",
       "Name: cast, dtype: int64"
      ]
     },
     "execution_count": 107,
     "metadata": {},
     "output_type": "execute_result"
    }
   ],
   "source": [
    "df_new.groupby([\"title\", \"cast\"])[\"show_id\"].value_counts().to_frame(\"c1\").reset_index()[\"cast\"].value_counts().sort_values(ascending=False)[:5]"
   ]
  },
  {
   "cell_type": "code",
   "execution_count": 108,
   "id": "f4a0f89c",
   "metadata": {},
   "outputs": [
    {
     "data": {
      "text/plain": [
       "Quincy Jones      264\n",
       "Anupam Kher        58\n",
       "Samuel West        50\n",
       "Laura Bailey       37\n",
       "Shah Rukh Khan     35\n",
       "Name: cast, dtype: int64"
      ]
     },
     "execution_count": 108,
     "metadata": {},
     "output_type": "execute_result"
    }
   ],
   "source": [
    "df_movies.groupby([\"title\", \"cast\"])[\"show_id\"].value_counts().to_frame(\"c1\").reset_index()[\"cast\"].value_counts().sort_values(ascending=False)[:5]"
   ]
  },
  {
   "cell_type": "code",
   "execution_count": 109,
   "id": "84c73fc0",
   "metadata": {},
   "outputs": [
    {
     "data": {
      "text/plain": [
       "David Attenborough    186\n",
       "Takahiro Sakurai       49\n",
       "Rutledge Wood          36\n",
       "Vincent Tong           36\n",
       "Yuki Kaji              19\n",
       "Name: cast, dtype: int64"
      ]
     },
     "execution_count": 109,
     "metadata": {},
     "output_type": "execute_result"
    }
   ],
   "source": [
    "df_series.groupby([\"title\", \"cast\"])[\"show_id\"].value_counts().to_frame(\"c1\").reset_index()[\"cast\"].value_counts().sort_values(ascending=False)[:5]"
   ]
  },
  {
   "cell_type": "markdown",
   "id": "96b2f939",
   "metadata": {},
   "source": [
    "## Top movie stars\n",
    "    Quincy Jones,Anupam Kher,Samuel West,Tara Strong and  Shah Rukh Khan are the top 5 most acted from data, so buy their movies."
   ]
  },
  {
   "cell_type": "markdown",
   "id": "d118a6cb",
   "metadata": {},
   "source": [
    "## Top Tv series Stars\n",
    "    David Attenborough,Takahiro Sakurai, Rutledge Wood, Vincent Tong and Yuki Kaji are the top 5 most acted from Tv Shows data, so buy their TV shows."
   ]
  },
  {
   "cell_type": "markdown",
   "id": "a58817ce",
   "metadata": {},
   "source": [
    "# 6) Inferences based on Country"
   ]
  },
  {
   "cell_type": "code",
   "execution_count": 110,
   "id": "34c0d356",
   "metadata": {},
   "outputs": [
    {
     "data": {
      "text/plain": [
       "<AxesSubplot:xlabel='count', ylabel='country'>"
      ]
     },
     "execution_count": 110,
     "metadata": {},
     "output_type": "execute_result"
    },
    {
     "data": {
      "image/png": "[encoded data removed]",
      "text/plain": [
       "<Figure size 640x480 with 1 Axes>"
      ]
     },
     "metadata": {},
     "output_type": "display_data"
    }
   ],
   "source": [
    "df_top3_tf = df_top3.groupby([\"title\",\"country\"])[\"listed_in\"].value_counts().to_frame(\"c1\").reset_index()\n",
    "sns.countplot(data=df_top3_tf, y=\"country\", hue=\"listed_in\")"
   ]
  },
  {
   "cell_type": "markdown",
   "id": "41dd0d84",
   "metadata": {},
   "source": [
    "## From top most 3 countries vs top most 5 genres\n",
    "    1) united states (drama,comedy and documentries)\n",
    "    2) India (drama,comedy, documentries)\n",
    "    3) United Kingdom(drama, documnetries, comedy)\n",
    "    so drama is most popular genere"
   ]
  },
  {
   "cell_type": "code",
   "execution_count": 111,
   "id": "1717396c",
   "metadata": {},
   "outputs": [
    {
     "data": {
      "image/png": "[encoded data removed]",
      "text/plain": [
       "<Figure size 1200x500 with 3 Axes>"
      ]
     },
     "metadata": {},
     "output_type": "display_data"
    }
   ],
   "source": [
    "df_top3_t = df_new[df_new[\"country\"].isin(top_3countries)]\n",
    "df_top3_t = df_top3_t.groupby([\"title\",\"country\"])[\"listed_in\"].value_counts().to_frame(\"c1\").reset_index()\n",
    "\n",
    "def funct(ar):\n",
    "    lst = df_top3_t.groupby([\"country\"])[\"listed_in\"].value_counts()[ar].sort_values(ascending = False).index[:5]\n",
    "    return lst\n",
    "\n",
    "def funch(n,ct):\n",
    "    plt.subplot(1,3,n)\n",
    "    d_us = df_top3_t[(df_top3_t[\"country\"] == ct) & (df_top3_t[\"listed_in\"].isin(funct(ct)))]\n",
    "    sns.countplot(data= d_us, x = \"country\", hue=\"listed_in\")\n",
    "    plt.title( ct +\" top 5 genres\")\n",
    "    \n",
    "plt.figure(figsize=(12,5))\n",
    "funch(1,\"United States\")  \n",
    "funch(2,\"India\")\n",
    "funch(3,\"United Kingdom\")\n",
    "\n",
    "plt.show()\n"
   ]
  },
  {
   "cell_type": "markdown",
   "id": "cf2f21bb",
   "metadata": {},
   "source": [
    "## Top 3 country wise top 5 genres\n",
    "    US, India, UK 's top 5 genres, so can target country wise releases"
   ]
  },
  {
   "cell_type": "markdown",
   "id": "54a87001",
   "metadata": {},
   "source": [
    "# 7) Inferences based on director"
   ]
  },
  {
   "cell_type": "code",
   "execution_count": 112,
   "id": "c8998bd8",
   "metadata": {},
   "outputs": [
    {
     "data": {
      "text/plain": [
       "Martin Scorsese    105\n",
       "Jan Suter           27\n",
       "David Dhawan        25\n",
       "Rajiv Chilaka       22\n",
       "Sarah Smith         19\n",
       "Name: director, dtype: int64"
      ]
     },
     "execution_count": 112,
     "metadata": {},
     "output_type": "execute_result"
    }
   ],
   "source": [
    "df_movies.groupby([\"title\", \"director\"]).count().reset_index()[\"director\"].value_counts()[:5]"
   ]
  },
  {
   "cell_type": "markdown",
   "id": "3e81aa99",
   "metadata": {},
   "source": [
    "## Top 5 movie directors\n",
    "    Martin Scorsese, Jan Suter, David Dhawan, Rajiv Chilaka and Sarah Smith are your top 5 directors, buy their movies if not already or plan movies with them "
   ]
  },
  {
   "cell_type": "markdown",
   "id": "2e529fad",
   "metadata": {},
   "source": [
    "# 8) Inferences from date added"
   ]
  },
  {
   "cell_type": "code",
   "execution_count": 113,
   "id": "a68056bc",
   "metadata": {},
   "outputs": [],
   "source": [
    "def func_month(x):\n",
    "    x[\"month\"] = x[\"date_added\"].month\n",
    "    x[\"y_d\"] = x[\"date_added\"].year - x[\"release_year\"]\n",
    "    return x\n",
    "\n",
    "# (df_new[\"type\"] == m_s)\n",
    "def func_month_ms(df_top3_d1, m_s,year_diff_bool):\n",
    "    df_top3_d1 = df_top3_d1[(df_top3_d1[\"type\"] == m_s)]\n",
    "    if year_diff_bool:\n",
    "        df_top3_d1 = df_top3_d1[df_top3_d1[\"y_d\"] <= 1]\n",
    "    else:\n",
    "        df_top3_d1 = df_top3_d1[df_top3_d1[\"y_d\"] > 1]\n",
    "    df_top3_d1 = df_top3_d1.groupby([\"title\",\"country\",\"date_added\"])[\"month\"].value_counts().to_frame(\"c1\").reset_index()\n",
    "    return df_top3_d1\n"
   ]
  },
  {
   "cell_type": "code",
   "execution_count": 114,
   "id": "5b38b564",
   "metadata": {},
   "outputs": [
    {
     "data": {
      "image/png": "[encoded data removed]",
      "text/plain": [
       "<Figure size 1200x800 with 4 Axes>"
      ]
     },
     "metadata": {},
     "output_type": "display_data"
    }
   ],
   "source": [
    "df_top3_d = df_new[(df_new[\"country\"].isin(top_3countries))]\n",
    "df_top3_d = df_top3_d.apply(func_month,axis = 1)\n",
    "plt.figure(figsize=(12,8))\n",
    "plt.subplot(2,2,1)\n",
    "sns.countplot(data = func_month_ms(df_top3_d, \"Movie\", True), x = \"month\", hue=\"country\")\n",
    "plt.title(\"month on which movie is added vs count ((0-1) year)\")\n",
    "plt.subplot(2,2,2)\n",
    "sns.countplot(data = func_month_ms(df_top3_d, \"TV Show\", True), x = \"month\", hue=\"country\")\n",
    "plt.title(\"month on which tvshow is added vs count ((0-1) year)\")\n",
    "plt.subplot(2,2,3)\n",
    "sns.countplot(data = func_month_ms(df_top3_d, \"Movie\", False), x = \"month\", hue=\"country\")\n",
    "plt.title(\"month on which movie is added vs count (> 1 year)\")\n",
    "plt.subplot(2,2,4)\n",
    "sns.countplot(data = func_month_ms(df_top3_d, \"TV Show\",False), x = \"month\", hue=\"country\")\n",
    "plt.title(\"month on which tvshow is added vs count (> 1 year)\")\n",
    "plt.show()"
   ]
  },
  {
   "cell_type": "markdown",
   "id": "ce84d6fa",
   "metadata": {},
   "source": [
    "## most highest month with:\n",
    "    For movies which are added on same year of release\n",
    "        United states => december\n",
    "        India => April and August\n",
    "        UK =>August\n",
    "    For TV series which are added on same year of release\n",
    "        United states => September\n",
    "        India => March and May\n",
    "        UK =>March and September\n",
    "    For movies which are added after 1 year of release\n",
    "        United states => Jan and Nov\n",
    "        India => April and Dec\n",
    "        UK =>Jan\n",
    "    For TV series which are added after 1 year of release\n",
    "        United states => Jan and Dec\n",
    "        India => April \n",
    "        UK => July\n",
    "    which aligns with holiday seasons US(Nov-Jan), Uk(July-Sept) and India(march-May)\n",
    "    so try release movies/Tv shows based above.\n",
    "\n",
    "         "
   ]
  },
  {
   "cell_type": "markdown",
   "id": "c6440321",
   "metadata": {},
   "source": [
    " "
   ]
  },
  {
   "cell_type": "markdown",
   "id": "d49c9f27",
   "metadata": {},
   "source": [
    "#### we can ignore International Movies and International TV Shows from genre \n",
    "    1) rows with only International Movies in genre is 3 out of 8807\n",
    "    2) rows with International TV Shows in genre is 2 out of 8807\n",
    "    3) International Movies in genre and United States in country is 166(6%)\n",
    "    4) International Movies in genre and United States  not in country is 2583\n",
    "    5) International TV Shows in genre and United States in country is 74(5%)\n",
    "    6) nternational TV Shows in genre and United States not in country is 1275\n",
    "    \n",
    "    From the above data we can conclude that International Movies & TV Shows genre given are movies outside of United States.\n",
    "     \n",
    "    And We can ignore International Movies & TV Shows genre while making genre decisions"
   ]
  },
  {
   "cell_type": "code",
   "execution_count": 115,
   "id": "2d6f200d",
   "metadata": {},
   "outputs": [
    {
     "data": {
      "text/plain": [
       "3"
      ]
     },
     "execution_count": 115,
     "metadata": {},
     "output_type": "execute_result"
    }
   ],
   "source": [
    "df[df[\"listed_in\"] == \"International Movies\"].shape[0]"
   ]
  },
  {
   "cell_type": "code",
   "execution_count": 116,
   "id": "5b4d43a8",
   "metadata": {},
   "outputs": [
    {
     "data": {
      "text/plain": [
       "2"
      ]
     },
     "execution_count": 116,
     "metadata": {},
     "output_type": "execute_result"
    }
   ],
   "source": [
    "df[df[\"listed_in\"] == \"International TV Shows\"].shape[0]"
   ]
  },
  {
   "cell_type": "code",
   "execution_count": 117,
   "id": "b173af1a",
   "metadata": {},
   "outputs": [],
   "source": [
    "def func(x):\n",
    "    if (\"International Movies\" in x[\"listed_in\"]) and (\"United States\" in x[\"country\"]):\n",
    "        if len(x[\"listed_in\"].split(\",\")) > 1:\n",
    "            x[\"new\"] = True\n",
    "            return x\n",
    "    x[\"new\"] = False\n",
    "    return x\n",
    "\n",
    "df_IM = df.apply(func,axis = 1)"
   ]
  },
  {
   "cell_type": "code",
   "execution_count": 118,
   "id": "b541474a",
   "metadata": {},
   "outputs": [
    {
     "data": {
      "text/plain": [
       "166"
      ]
     },
     "execution_count": 118,
     "metadata": {},
     "output_type": "execute_result"
    }
   ],
   "source": [
    "df_IM[df_IM[\"new\"]].shape[0]"
   ]
  },
  {
   "cell_type": "code",
   "execution_count": 119,
   "id": "9115dda3",
   "metadata": {},
   "outputs": [],
   "source": [
    "def func(x):\n",
    "    if (\"International Movies\" in x[\"listed_in\"]) and (\"United States\" not in x[\"country\"]):\n",
    "        if len(x[\"listed_in\"].split(\",\")) > 1:\n",
    "            x[\"new\"] = True\n",
    "            return x\n",
    "    x[\"new\"] = False\n",
    "    return x\n",
    "\n",
    "df_IM = df.apply(func,axis = 1)"
   ]
  },
  {
   "cell_type": "code",
   "execution_count": 120,
   "id": "36894890",
   "metadata": {},
   "outputs": [
    {
     "data": {
      "text/plain": [
       "2583"
      ]
     },
     "execution_count": 120,
     "metadata": {},
     "output_type": "execute_result"
    }
   ],
   "source": [
    "df_IM[df_IM[\"new\"]].shape[0]"
   ]
  },
  {
   "cell_type": "code",
   "execution_count": 121,
   "id": "99d25b4c",
   "metadata": {},
   "outputs": [],
   "source": [
    "def func(x):\n",
    "    if (\"International TV Shows\" in x[\"listed_in\"])  and (\"United States\" in x[\"country\"]):\n",
    "        if len(x[\"listed_in\"].split(\",\")) > 1:\n",
    "            x[\"new\"] = True\n",
    "            return x\n",
    "    x[\"new\"] = False\n",
    "    return x\n",
    "\n",
    "df_IS = df.apply(func,axis = 1)"
   ]
  },
  {
   "cell_type": "code",
   "execution_count": 122,
   "id": "2342cca2",
   "metadata": {},
   "outputs": [
    {
     "data": {
      "text/plain": [
       "74"
      ]
     },
     "execution_count": 122,
     "metadata": {},
     "output_type": "execute_result"
    }
   ],
   "source": [
    "df_IS[df_IS[\"new\"]].shape[0]"
   ]
  },
  {
   "cell_type": "code",
   "execution_count": 123,
   "id": "a61e26ba",
   "metadata": {},
   "outputs": [],
   "source": [
    "def func(x):\n",
    "    if (\"International TV Shows\" in x[\"listed_in\"])  and (\"United States\" not in x[\"country\"]):\n",
    "        if len(x[\"listed_in\"].split(\",\")) > 1:\n",
    "            x[\"new\"] = True\n",
    "            return x\n",
    "    x[\"new\"] = False\n",
    "    return x\n",
    "\n",
    "df_IS = df.apply(func,axis = 1)"
   ]
  },
  {
   "cell_type": "code",
   "execution_count": 124,
   "id": "9140d25c",
   "metadata": {},
   "outputs": [
    {
     "data": {
      "text/plain": [
       "1275"
      ]
     },
     "execution_count": 124,
     "metadata": {},
     "output_type": "execute_result"
    }
   ],
   "source": [
    "df_IS[df_IS[\"new\"]].shape[0]"
   ]
  },
  {
   "cell_type": "code",
   "execution_count": null,
   "id": "2bb58624",
   "metadata": {},
   "outputs": [],
   "source": []
  }
 ],
 "metadata": {
  "kernelspec": {
   "display_name": "Python 3 (ipykernel)",
   "language": "python",
   "name": "python3"
  },
  "language_info": {
   "codemirror_mode": {
    "name": "ipython",
    "version": 3
   },
   "file_extension": ".py",
   "mimetype": "text/x-python",
   "name": "python",
   "nbconvert_exporter": "python",
   "pygments_lexer": "ipython3",
   "version": "3.9.13"
  }
 },
 "nbformat": 4,
 "nbformat_minor": 5
}
